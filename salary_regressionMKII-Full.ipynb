{
 "cells": [
  {
   "cell_type": "code",
   "execution_count": 122,
   "metadata": {
    "collapsed": true
   },
   "outputs": [],
   "source": [
    "import numpy as np\n",
    "import pandas as pd\n",
    "import matplotlib.pyplot as plt\n",
    "import sklearn as sk\n",
    "%matplotlib inline\n",
    "\n",
    "pd.set_option('display.max_columns', 1000000)\n",
    "pd.set_option('display.max_rows', 1000000)\n"
   ]
  },
  {
   "cell_type": "code",
   "execution_count": 123,
   "metadata": {
    "collapsed": true
   },
   "outputs": [],
   "source": [
    "sal = pd.read_csv('salaries-merged-copy.csv')"
   ]
  },
  {
   "cell_type": "code",
   "execution_count": 124,
   "metadata": {
    "collapsed": false
   },
   "outputs": [
    {
     "data": {
      "text/html": [
       "<div>\n",
       "<table border=\"1\" class=\"dataframe\">\n",
       "  <thead>\n",
       "    <tr style=\"text-align: right;\">\n",
       "      <th></th>\n",
       "      <th>Unnamed: 0</th>\n",
       "      <th>function</th>\n",
       "      <th>sup1</th>\n",
       "      <th>sup2</th>\n",
       "      <th>sup3</th>\n",
       "      <th>sup4</th>\n",
       "      <th>sup5</th>\n",
       "      <th>salary</th>\n",
       "      <th>gender</th>\n",
       "      <th>disabled</th>\n",
       "      <th>race</th>\n",
       "      <th>yearsinposition</th>\n",
       "      <th>yearsinprofession</th>\n",
       "      <th>age</th>\n",
       "      <th>cred1</th>\n",
       "      <th>cred2</th>\n",
       "      <th>highestdegree</th>\n",
       "      <th>inst1</th>\n",
       "      <th>inst2</th>\n",
       "      <th>inst3</th>\n",
       "      <th>inst4</th>\n",
       "      <th>inst5</th>\n",
       "      <th>instbudget</th>\n",
       "      <th>city</th>\n",
       "      <th>state</th>\n",
       "      <th>zip</th>\n",
       "      <th>country</th>\n",
       "      <th>category</th>\n",
       "      <th>instsize</th>\n",
       "      <th>insttype</th>\n",
       "      <th>median</th>\n",
       "      <th>mean</th>\n",
       "      <th>pop</th>\n",
       "      <th>b19013_001</th>\n",
       "      <th>no_male_hs_p</th>\n",
       "      <th>no_female_hs_p</th>\n",
       "      <th>at_least_hs_male_p</th>\n",
       "      <th>at_least_hs_female_p</th>\n",
       "      <th>at_least_bach_male_p</th>\n",
       "      <th>at_least_bach_female_p</th>\n",
       "      <th>male_unemployment</th>\n",
       "      <th>female_unemployment</th>\n",
       "      <th>snap</th>\n",
       "      <th>renter</th>\n",
       "      <th>median_rent</th>\n",
       "      <th>foreign_born</th>\n",
       "      <th>value_for_owner-occupied_housing_units:__total:_</th>\n",
       "      <th>value_for_owner-occupied_housing_units:__less_than_$10,000_</th>\n",
       "      <th>value_for_owner-occupied_housing_units:__$10,000_to_$14,999_</th>\n",
       "      <th>value_for_owner-occupied_housing_units:__$15,000_to_$19,999_</th>\n",
       "      <th>value_for_owner-occupied_housing_units:__$20,000_to_$24,999_</th>\n",
       "      <th>value_for_owner-occupied_housing_units:__$25,000_to_$29,999_</th>\n",
       "      <th>value_for_owner-occupied_housing_units:__$30,000_to_$34,999_</th>\n",
       "      <th>value_for_owner-occupied_housing_units:__$35,000_to_$39,999_</th>\n",
       "      <th>value_for_owner-occupied_housing_units:__$40,000_to_$49,999_</th>\n",
       "      <th>value_for_owner-occupied_housing_units:__$50,000_to_$59,999_</th>\n",
       "      <th>value_for_owner-occupied_housing_units:__$60,000_to_$69,999_</th>\n",
       "      <th>value_for_owner-occupied_housing_units:__$70,000_to_$79,999_</th>\n",
       "      <th>value_for_owner-occupied_housing_units:__$80,000_to_$89,999_</th>\n",
       "      <th>value_for_owner-occupied_housing_units:__$90,000_to_$99,999_</th>\n",
       "      <th>value_for_owner-occupied_housing_units:__$100,000_to_$124,999_</th>\n",
       "      <th>value_for_owner-occupied_housing_units:__$125,000_to_$149,999_</th>\n",
       "      <th>value_for_owner-occupied_housing_units:__$150,000_to_$174,999_</th>\n",
       "      <th>value_for_owner-occupied_housing_units:__$175,000_to_$199,999_</th>\n",
       "      <th>value_for_owner-occupied_housing_units:__$200,000_to_$249,999_</th>\n",
       "      <th>value_for_owner-occupied_housing_units:__$250,000_to_$299,999_</th>\n",
       "      <th>value_for_owner-occupied_housing_units:__$300,000_to_$399,999_</th>\n",
       "      <th>value_for_owner-occupied_housing_units:__$400,000_to_$499,999_</th>\n",
       "      <th>value_for_owner-occupied_housing_units:__$500,000_to_$749,999_</th>\n",
       "      <th>value_for_owner-occupied_housing_units:__$750,000_to_$999,999_</th>\n",
       "      <th>value_for_owner-occupied_housing_units:__$1,000,000_or_more_</th>\n",
       "      <th>sex_by_age:__male:_</th>\n",
       "      <th>sex_by_age:__male:_under_5_years_</th>\n",
       "      <th>sex_by_age:__male:_5_to_9_years_</th>\n",
       "      <th>sex_by_age:__male:_10_to_14_years_</th>\n",
       "      <th>sex_by_age:__male:_15_to_17_years_</th>\n",
       "      <th>sex_by_age:__male:_18_and_19_years_</th>\n",
       "      <th>sex_by_age:__male:_20_years_</th>\n",
       "      <th>sex_by_age:__male:_21_years_</th>\n",
       "      <th>sex_by_age:__male:_22_to_24_years_</th>\n",
       "      <th>sex_by_age:__male:_25_to_29_years_</th>\n",
       "      <th>sex_by_age:__male:_30_to_34_years_</th>\n",
       "      <th>sex_by_age:__male:_35_to_39_years_</th>\n",
       "      <th>sex_by_age:__male:_40_to_44_years_</th>\n",
       "      <th>sex_by_age:__male:_45_to_49_years_</th>\n",
       "      <th>sex_by_age:__male:_50_to_54_years_</th>\n",
       "      <th>sex_by_age:__male:_55_to_59_years_</th>\n",
       "      <th>sex_by_age:__male:_60_and_61_years_</th>\n",
       "      <th>sex_by_age:__male:_62_to_64_years_</th>\n",
       "      <th>sex_by_age:__male:_65_and_66_years_</th>\n",
       "      <th>sex_by_age:__male:_67_to_69_years_</th>\n",
       "      <th>sex_by_age:__male:_70_to_74_years_</th>\n",
       "      <th>sex_by_age:__male:_75_to_79_years_</th>\n",
       "      <th>sex_by_age:__male:_80_to_84_years_</th>\n",
       "      <th>sex_by_age:__male:_85_years_and_over_</th>\n",
       "      <th>sex_by_age:__female:_</th>\n",
       "      <th>sex_by_age:__female:_under_5_years_</th>\n",
       "      <th>sex_by_age:__female:_5_to_9_years_</th>\n",
       "      <th>sex_by_age:__female:_10_to_14_years_</th>\n",
       "      <th>sex_by_age:__female:_15_to_17_years_</th>\n",
       "      <th>sex_by_age:__female:_18_and_19_years_</th>\n",
       "      <th>sex_by_age:__female:_20_years_</th>\n",
       "      <th>sex_by_age:__female:_21_years_</th>\n",
       "      <th>sex_by_age:__female:_22_to_24_years_</th>\n",
       "      <th>sex_by_age:__female:_25_to_29_years_</th>\n",
       "      <th>sex_by_age:__female:_30_to_34_years_</th>\n",
       "      <th>sex_by_age:__female:_35_to_39_years_</th>\n",
       "      <th>sex_by_age:__female:_40_to_44_years_</th>\n",
       "      <th>sex_by_age:__female:_45_to_49_years_</th>\n",
       "      <th>sex_by_age:__female:_50_to_54_years_</th>\n",
       "      <th>sex_by_age:__female:_55_to_59_years_</th>\n",
       "      <th>sex_by_age:__female:_60_and_61_years_</th>\n",
       "      <th>sex_by_age:__female:_62_to_64_years_</th>\n",
       "      <th>sex_by_age:__female:_65_and_66_years_</th>\n",
       "      <th>sex_by_age:__female:_67_to_69_years_</th>\n",
       "      <th>sex_by_age:__female:_70_to_74_years_</th>\n",
       "      <th>sex_by_age:__female:_75_to_79_years_</th>\n",
       "      <th>sex_by_age:__female:_80_to_84_years_</th>\n",
       "      <th>sex_by_age:__female:_85_years_and_over_</th>\n",
       "      <th>commute_over_60</th>\n",
       "      <th>full_time</th>\n",
       "      <th>part_time</th>\n",
       "      <th>high_rent_burden</th>\n",
       "      <th>extreme_rent_burden</th>\n",
       "    </tr>\n",
       "  </thead>\n",
       "  <tbody>\n",
       "    <tr>\n",
       "      <th>0</th>\n",
       "      <td>2211</td>\n",
       "      <td>position22</td>\n",
       "      <td>0</td>\n",
       "      <td>0</td>\n",
       "      <td>0</td>\n",
       "      <td>4</td>\n",
       "      <td>1</td>\n",
       "      <td>49088</td>\n",
       "      <td>Man</td>\n",
       "      <td>False</td>\n",
       "      <td>Caucasian</td>\n",
       "      <td>1</td>\n",
       "      <td>1</td>\n",
       "      <td>NaN</td>\n",
       "      <td>False</td>\n",
       "      <td>False</td>\n",
       "      <td>Bachelor's Degree</td>\n",
       "      <td>9</td>\n",
       "      <td>0</td>\n",
       "      <td>2</td>\n",
       "      <td>60</td>\n",
       "      <td>0</td>\n",
       "      <td>1250000</td>\n",
       "      <td>Fairbanks</td>\n",
       "      <td>AK</td>\n",
       "      <td>99775</td>\n",
       "      <td>United States</td>\n",
       "      <td>one</td>\n",
       "      <td>9223</td>\n",
       "      <td>Public Institution</td>\n",
       "      <td>79,357</td>\n",
       "      <td>120,734</td>\n",
       "      <td>1,251</td>\n",
       "      <td>86579</td>\n",
       "      <td>0</td>\n",
       "      <td>0</td>\n",
       "      <td>100</td>\n",
       "      <td>100</td>\n",
       "      <td>75.177305</td>\n",
       "      <td>32.692308</td>\n",
       "      <td>8.495575</td>\n",
       "      <td>10.091743</td>\n",
       "      <td>0</td>\n",
       "      <td>100</td>\n",
       "      <td>1056</td>\n",
       "      <td>16.255605</td>\n",
       "      <td>0</td>\n",
       "      <td>0</td>\n",
       "      <td>0</td>\n",
       "      <td>0</td>\n",
       "      <td>0</td>\n",
       "      <td>0</td>\n",
       "      <td>0</td>\n",
       "      <td>0</td>\n",
       "      <td>0</td>\n",
       "      <td>0</td>\n",
       "      <td>0</td>\n",
       "      <td>0</td>\n",
       "      <td>0</td>\n",
       "      <td>0</td>\n",
       "      <td>0</td>\n",
       "      <td>0</td>\n",
       "      <td>0</td>\n",
       "      <td>0</td>\n",
       "      <td>0</td>\n",
       "      <td>0</td>\n",
       "      <td>0</td>\n",
       "      <td>0</td>\n",
       "      <td>0</td>\n",
       "      <td>0</td>\n",
       "      <td>0</td>\n",
       "      <td>565</td>\n",
       "      <td>0</td>\n",
       "      <td>0</td>\n",
       "      <td>0</td>\n",
       "      <td>2</td>\n",
       "      <td>192</td>\n",
       "      <td>87</td>\n",
       "      <td>42</td>\n",
       "      <td>101</td>\n",
       "      <td>46</td>\n",
       "      <td>50</td>\n",
       "      <td>2</td>\n",
       "      <td>0</td>\n",
       "      <td>2</td>\n",
       "      <td>8</td>\n",
       "      <td>12</td>\n",
       "      <td>0</td>\n",
       "      <td>21</td>\n",
       "      <td>0</td>\n",
       "      <td>0</td>\n",
       "      <td>0</td>\n",
       "      <td>0</td>\n",
       "      <td>0</td>\n",
       "      <td>0</td>\n",
       "      <td>327</td>\n",
       "      <td>0</td>\n",
       "      <td>0</td>\n",
       "      <td>0</td>\n",
       "      <td>16</td>\n",
       "      <td>109</td>\n",
       "      <td>31</td>\n",
       "      <td>47</td>\n",
       "      <td>20</td>\n",
       "      <td>71</td>\n",
       "      <td>5</td>\n",
       "      <td>0</td>\n",
       "      <td>0</td>\n",
       "      <td>0</td>\n",
       "      <td>0</td>\n",
       "      <td>17</td>\n",
       "      <td>11</td>\n",
       "      <td>0</td>\n",
       "      <td>0</td>\n",
       "      <td>0</td>\n",
       "      <td>0</td>\n",
       "      <td>0</td>\n",
       "      <td>0</td>\n",
       "      <td>0</td>\n",
       "      <td>0</td>\n",
       "      <td>65.276074</td>\n",
       "      <td>34.723926</td>\n",
       "      <td>37.5</td>\n",
       "      <td>37.5</td>\n",
       "    </tr>\n",
       "    <tr>\n",
       "      <th>1</th>\n",
       "      <td>2212</td>\n",
       "      <td>position15</td>\n",
       "      <td>0</td>\n",
       "      <td>0</td>\n",
       "      <td>0</td>\n",
       "      <td>0</td>\n",
       "      <td>0</td>\n",
       "      <td>48131</td>\n",
       "      <td>Man</td>\n",
       "      <td>True</td>\n",
       "      <td>Caucasian</td>\n",
       "      <td>8</td>\n",
       "      <td>3</td>\n",
       "      <td>60</td>\n",
       "      <td>False</td>\n",
       "      <td>False</td>\n",
       "      <td>Associate's Degree</td>\n",
       "      <td>9</td>\n",
       "      <td>0</td>\n",
       "      <td>2</td>\n",
       "      <td>60</td>\n",
       "      <td>0</td>\n",
       "      <td>1250000</td>\n",
       "      <td>Fairbanks</td>\n",
       "      <td>AK</td>\n",
       "      <td>99775</td>\n",
       "      <td>United States</td>\n",
       "      <td>one</td>\n",
       "      <td>9223</td>\n",
       "      <td>Public Institution</td>\n",
       "      <td>79,357</td>\n",
       "      <td>120,734</td>\n",
       "      <td>1,251</td>\n",
       "      <td>86579</td>\n",
       "      <td>0</td>\n",
       "      <td>0</td>\n",
       "      <td>100</td>\n",
       "      <td>100</td>\n",
       "      <td>75.177305</td>\n",
       "      <td>32.692308</td>\n",
       "      <td>8.495575</td>\n",
       "      <td>10.091743</td>\n",
       "      <td>0</td>\n",
       "      <td>100</td>\n",
       "      <td>1056</td>\n",
       "      <td>16.255605</td>\n",
       "      <td>0</td>\n",
       "      <td>0</td>\n",
       "      <td>0</td>\n",
       "      <td>0</td>\n",
       "      <td>0</td>\n",
       "      <td>0</td>\n",
       "      <td>0</td>\n",
       "      <td>0</td>\n",
       "      <td>0</td>\n",
       "      <td>0</td>\n",
       "      <td>0</td>\n",
       "      <td>0</td>\n",
       "      <td>0</td>\n",
       "      <td>0</td>\n",
       "      <td>0</td>\n",
       "      <td>0</td>\n",
       "      <td>0</td>\n",
       "      <td>0</td>\n",
       "      <td>0</td>\n",
       "      <td>0</td>\n",
       "      <td>0</td>\n",
       "      <td>0</td>\n",
       "      <td>0</td>\n",
       "      <td>0</td>\n",
       "      <td>0</td>\n",
       "      <td>565</td>\n",
       "      <td>0</td>\n",
       "      <td>0</td>\n",
       "      <td>0</td>\n",
       "      <td>2</td>\n",
       "      <td>192</td>\n",
       "      <td>87</td>\n",
       "      <td>42</td>\n",
       "      <td>101</td>\n",
       "      <td>46</td>\n",
       "      <td>50</td>\n",
       "      <td>2</td>\n",
       "      <td>0</td>\n",
       "      <td>2</td>\n",
       "      <td>8</td>\n",
       "      <td>12</td>\n",
       "      <td>0</td>\n",
       "      <td>21</td>\n",
       "      <td>0</td>\n",
       "      <td>0</td>\n",
       "      <td>0</td>\n",
       "      <td>0</td>\n",
       "      <td>0</td>\n",
       "      <td>0</td>\n",
       "      <td>327</td>\n",
       "      <td>0</td>\n",
       "      <td>0</td>\n",
       "      <td>0</td>\n",
       "      <td>16</td>\n",
       "      <td>109</td>\n",
       "      <td>31</td>\n",
       "      <td>47</td>\n",
       "      <td>20</td>\n",
       "      <td>71</td>\n",
       "      <td>5</td>\n",
       "      <td>0</td>\n",
       "      <td>0</td>\n",
       "      <td>0</td>\n",
       "      <td>0</td>\n",
       "      <td>17</td>\n",
       "      <td>11</td>\n",
       "      <td>0</td>\n",
       "      <td>0</td>\n",
       "      <td>0</td>\n",
       "      <td>0</td>\n",
       "      <td>0</td>\n",
       "      <td>0</td>\n",
       "      <td>0</td>\n",
       "      <td>0</td>\n",
       "      <td>65.276074</td>\n",
       "      <td>34.723926</td>\n",
       "      <td>37.5</td>\n",
       "      <td>37.5</td>\n",
       "    </tr>\n",
       "    <tr>\n",
       "      <th>2</th>\n",
       "      <td>2216</td>\n",
       "      <td>position20</td>\n",
       "      <td>1</td>\n",
       "      <td>0</td>\n",
       "      <td>1</td>\n",
       "      <td>6</td>\n",
       "      <td>1</td>\n",
       "      <td>51625</td>\n",
       "      <td>Man</td>\n",
       "      <td>False</td>\n",
       "      <td>Caucasian</td>\n",
       "      <td>2</td>\n",
       "      <td>5</td>\n",
       "      <td>28</td>\n",
       "      <td>False</td>\n",
       "      <td>False</td>\n",
       "      <td>Bachelor's Degree</td>\n",
       "      <td>9</td>\n",
       "      <td>0</td>\n",
       "      <td>2</td>\n",
       "      <td>60</td>\n",
       "      <td>0</td>\n",
       "      <td>1250000</td>\n",
       "      <td>Fairbanks</td>\n",
       "      <td>AK</td>\n",
       "      <td>99775</td>\n",
       "      <td>United States</td>\n",
       "      <td>one</td>\n",
       "      <td>9223</td>\n",
       "      <td>Public Institution</td>\n",
       "      <td>79,357</td>\n",
       "      <td>120,734</td>\n",
       "      <td>1,251</td>\n",
       "      <td>86579</td>\n",
       "      <td>0</td>\n",
       "      <td>0</td>\n",
       "      <td>100</td>\n",
       "      <td>100</td>\n",
       "      <td>75.177305</td>\n",
       "      <td>32.692308</td>\n",
       "      <td>8.495575</td>\n",
       "      <td>10.091743</td>\n",
       "      <td>0</td>\n",
       "      <td>100</td>\n",
       "      <td>1056</td>\n",
       "      <td>16.255605</td>\n",
       "      <td>0</td>\n",
       "      <td>0</td>\n",
       "      <td>0</td>\n",
       "      <td>0</td>\n",
       "      <td>0</td>\n",
       "      <td>0</td>\n",
       "      <td>0</td>\n",
       "      <td>0</td>\n",
       "      <td>0</td>\n",
       "      <td>0</td>\n",
       "      <td>0</td>\n",
       "      <td>0</td>\n",
       "      <td>0</td>\n",
       "      <td>0</td>\n",
       "      <td>0</td>\n",
       "      <td>0</td>\n",
       "      <td>0</td>\n",
       "      <td>0</td>\n",
       "      <td>0</td>\n",
       "      <td>0</td>\n",
       "      <td>0</td>\n",
       "      <td>0</td>\n",
       "      <td>0</td>\n",
       "      <td>0</td>\n",
       "      <td>0</td>\n",
       "      <td>565</td>\n",
       "      <td>0</td>\n",
       "      <td>0</td>\n",
       "      <td>0</td>\n",
       "      <td>2</td>\n",
       "      <td>192</td>\n",
       "      <td>87</td>\n",
       "      <td>42</td>\n",
       "      <td>101</td>\n",
       "      <td>46</td>\n",
       "      <td>50</td>\n",
       "      <td>2</td>\n",
       "      <td>0</td>\n",
       "      <td>2</td>\n",
       "      <td>8</td>\n",
       "      <td>12</td>\n",
       "      <td>0</td>\n",
       "      <td>21</td>\n",
       "      <td>0</td>\n",
       "      <td>0</td>\n",
       "      <td>0</td>\n",
       "      <td>0</td>\n",
       "      <td>0</td>\n",
       "      <td>0</td>\n",
       "      <td>327</td>\n",
       "      <td>0</td>\n",
       "      <td>0</td>\n",
       "      <td>0</td>\n",
       "      <td>16</td>\n",
       "      <td>109</td>\n",
       "      <td>31</td>\n",
       "      <td>47</td>\n",
       "      <td>20</td>\n",
       "      <td>71</td>\n",
       "      <td>5</td>\n",
       "      <td>0</td>\n",
       "      <td>0</td>\n",
       "      <td>0</td>\n",
       "      <td>0</td>\n",
       "      <td>17</td>\n",
       "      <td>11</td>\n",
       "      <td>0</td>\n",
       "      <td>0</td>\n",
       "      <td>0</td>\n",
       "      <td>0</td>\n",
       "      <td>0</td>\n",
       "      <td>0</td>\n",
       "      <td>0</td>\n",
       "      <td>0</td>\n",
       "      <td>65.276074</td>\n",
       "      <td>34.723926</td>\n",
       "      <td>37.5</td>\n",
       "      <td>37.5</td>\n",
       "    </tr>\n",
       "    <tr>\n",
       "      <th>3</th>\n",
       "      <td>2217</td>\n",
       "      <td>position6</td>\n",
       "      <td>0</td>\n",
       "      <td>0</td>\n",
       "      <td>1</td>\n",
       "      <td>30</td>\n",
       "      <td>5</td>\n",
       "      <td>54225</td>\n",
       "      <td>Woman</td>\n",
       "      <td>False</td>\n",
       "      <td>Caucasian</td>\n",
       "      <td>3</td>\n",
       "      <td>5</td>\n",
       "      <td>28</td>\n",
       "      <td>False</td>\n",
       "      <td>False</td>\n",
       "      <td>Master's Degree</td>\n",
       "      <td>9</td>\n",
       "      <td>0</td>\n",
       "      <td>2</td>\n",
       "      <td>60</td>\n",
       "      <td>0</td>\n",
       "      <td>1250000</td>\n",
       "      <td>Fairbanks</td>\n",
       "      <td>AK</td>\n",
       "      <td>99775</td>\n",
       "      <td>United States</td>\n",
       "      <td>one</td>\n",
       "      <td>9223</td>\n",
       "      <td>Public Institution</td>\n",
       "      <td>79,357</td>\n",
       "      <td>120,734</td>\n",
       "      <td>1,251</td>\n",
       "      <td>86579</td>\n",
       "      <td>0</td>\n",
       "      <td>0</td>\n",
       "      <td>100</td>\n",
       "      <td>100</td>\n",
       "      <td>75.177305</td>\n",
       "      <td>32.692308</td>\n",
       "      <td>8.495575</td>\n",
       "      <td>10.091743</td>\n",
       "      <td>0</td>\n",
       "      <td>100</td>\n",
       "      <td>1056</td>\n",
       "      <td>16.255605</td>\n",
       "      <td>0</td>\n",
       "      <td>0</td>\n",
       "      <td>0</td>\n",
       "      <td>0</td>\n",
       "      <td>0</td>\n",
       "      <td>0</td>\n",
       "      <td>0</td>\n",
       "      <td>0</td>\n",
       "      <td>0</td>\n",
       "      <td>0</td>\n",
       "      <td>0</td>\n",
       "      <td>0</td>\n",
       "      <td>0</td>\n",
       "      <td>0</td>\n",
       "      <td>0</td>\n",
       "      <td>0</td>\n",
       "      <td>0</td>\n",
       "      <td>0</td>\n",
       "      <td>0</td>\n",
       "      <td>0</td>\n",
       "      <td>0</td>\n",
       "      <td>0</td>\n",
       "      <td>0</td>\n",
       "      <td>0</td>\n",
       "      <td>0</td>\n",
       "      <td>565</td>\n",
       "      <td>0</td>\n",
       "      <td>0</td>\n",
       "      <td>0</td>\n",
       "      <td>2</td>\n",
       "      <td>192</td>\n",
       "      <td>87</td>\n",
       "      <td>42</td>\n",
       "      <td>101</td>\n",
       "      <td>46</td>\n",
       "      <td>50</td>\n",
       "      <td>2</td>\n",
       "      <td>0</td>\n",
       "      <td>2</td>\n",
       "      <td>8</td>\n",
       "      <td>12</td>\n",
       "      <td>0</td>\n",
       "      <td>21</td>\n",
       "      <td>0</td>\n",
       "      <td>0</td>\n",
       "      <td>0</td>\n",
       "      <td>0</td>\n",
       "      <td>0</td>\n",
       "      <td>0</td>\n",
       "      <td>327</td>\n",
       "      <td>0</td>\n",
       "      <td>0</td>\n",
       "      <td>0</td>\n",
       "      <td>16</td>\n",
       "      <td>109</td>\n",
       "      <td>31</td>\n",
       "      <td>47</td>\n",
       "      <td>20</td>\n",
       "      <td>71</td>\n",
       "      <td>5</td>\n",
       "      <td>0</td>\n",
       "      <td>0</td>\n",
       "      <td>0</td>\n",
       "      <td>0</td>\n",
       "      <td>17</td>\n",
       "      <td>11</td>\n",
       "      <td>0</td>\n",
       "      <td>0</td>\n",
       "      <td>0</td>\n",
       "      <td>0</td>\n",
       "      <td>0</td>\n",
       "      <td>0</td>\n",
       "      <td>0</td>\n",
       "      <td>0</td>\n",
       "      <td>65.276074</td>\n",
       "      <td>34.723926</td>\n",
       "      <td>37.5</td>\n",
       "      <td>37.5</td>\n",
       "    </tr>\n",
       "    <tr>\n",
       "      <th>4</th>\n",
       "      <td>2218</td>\n",
       "      <td>position10</td>\n",
       "      <td>0</td>\n",
       "      <td>0</td>\n",
       "      <td>0</td>\n",
       "      <td>7</td>\n",
       "      <td>0</td>\n",
       "      <td>67495</td>\n",
       "      <td>Woman</td>\n",
       "      <td>False</td>\n",
       "      <td>Caucasian</td>\n",
       "      <td>3</td>\n",
       "      <td>3</td>\n",
       "      <td>NaN</td>\n",
       "      <td>False</td>\n",
       "      <td>False</td>\n",
       "      <td>Bachelor's Degree</td>\n",
       "      <td>9</td>\n",
       "      <td>0</td>\n",
       "      <td>2</td>\n",
       "      <td>60</td>\n",
       "      <td>0</td>\n",
       "      <td>1250000</td>\n",
       "      <td>Fairbanks</td>\n",
       "      <td>AK</td>\n",
       "      <td>99775</td>\n",
       "      <td>United States</td>\n",
       "      <td>one</td>\n",
       "      <td>9223</td>\n",
       "      <td>Public Institution</td>\n",
       "      <td>79,357</td>\n",
       "      <td>120,734</td>\n",
       "      <td>1,251</td>\n",
       "      <td>86579</td>\n",
       "      <td>0</td>\n",
       "      <td>0</td>\n",
       "      <td>100</td>\n",
       "      <td>100</td>\n",
       "      <td>75.177305</td>\n",
       "      <td>32.692308</td>\n",
       "      <td>8.495575</td>\n",
       "      <td>10.091743</td>\n",
       "      <td>0</td>\n",
       "      <td>100</td>\n",
       "      <td>1056</td>\n",
       "      <td>16.255605</td>\n",
       "      <td>0</td>\n",
       "      <td>0</td>\n",
       "      <td>0</td>\n",
       "      <td>0</td>\n",
       "      <td>0</td>\n",
       "      <td>0</td>\n",
       "      <td>0</td>\n",
       "      <td>0</td>\n",
       "      <td>0</td>\n",
       "      <td>0</td>\n",
       "      <td>0</td>\n",
       "      <td>0</td>\n",
       "      <td>0</td>\n",
       "      <td>0</td>\n",
       "      <td>0</td>\n",
       "      <td>0</td>\n",
       "      <td>0</td>\n",
       "      <td>0</td>\n",
       "      <td>0</td>\n",
       "      <td>0</td>\n",
       "      <td>0</td>\n",
       "      <td>0</td>\n",
       "      <td>0</td>\n",
       "      <td>0</td>\n",
       "      <td>0</td>\n",
       "      <td>565</td>\n",
       "      <td>0</td>\n",
       "      <td>0</td>\n",
       "      <td>0</td>\n",
       "      <td>2</td>\n",
       "      <td>192</td>\n",
       "      <td>87</td>\n",
       "      <td>42</td>\n",
       "      <td>101</td>\n",
       "      <td>46</td>\n",
       "      <td>50</td>\n",
       "      <td>2</td>\n",
       "      <td>0</td>\n",
       "      <td>2</td>\n",
       "      <td>8</td>\n",
       "      <td>12</td>\n",
       "      <td>0</td>\n",
       "      <td>21</td>\n",
       "      <td>0</td>\n",
       "      <td>0</td>\n",
       "      <td>0</td>\n",
       "      <td>0</td>\n",
       "      <td>0</td>\n",
       "      <td>0</td>\n",
       "      <td>327</td>\n",
       "      <td>0</td>\n",
       "      <td>0</td>\n",
       "      <td>0</td>\n",
       "      <td>16</td>\n",
       "      <td>109</td>\n",
       "      <td>31</td>\n",
       "      <td>47</td>\n",
       "      <td>20</td>\n",
       "      <td>71</td>\n",
       "      <td>5</td>\n",
       "      <td>0</td>\n",
       "      <td>0</td>\n",
       "      <td>0</td>\n",
       "      <td>0</td>\n",
       "      <td>17</td>\n",
       "      <td>11</td>\n",
       "      <td>0</td>\n",
       "      <td>0</td>\n",
       "      <td>0</td>\n",
       "      <td>0</td>\n",
       "      <td>0</td>\n",
       "      <td>0</td>\n",
       "      <td>0</td>\n",
       "      <td>0</td>\n",
       "      <td>65.276074</td>\n",
       "      <td>34.723926</td>\n",
       "      <td>37.5</td>\n",
       "      <td>37.5</td>\n",
       "    </tr>\n",
       "  </tbody>\n",
       "</table>\n",
       "</div>"
      ],
      "text/plain": [
       "   Unnamed: 0    function  sup1  sup2  sup3  sup4  sup5  salary gender  \\\n",
       "0        2211  position22     0     0     0     4     1   49088    Man   \n",
       "1        2212  position15     0     0     0     0     0   48131    Man   \n",
       "2        2216  position20     1     0     1     6     1   51625    Man   \n",
       "3        2217   position6     0     0     1    30     5   54225  Woman   \n",
       "4        2218  position10     0     0     0     7     0   67495  Woman   \n",
       "\n",
       "  disabled       race  yearsinposition  yearsinprofession  age  cred1  cred2  \\\n",
       "0    False  Caucasian                1                  1  NaN  False  False   \n",
       "1     True  Caucasian                8                  3   60  False  False   \n",
       "2    False  Caucasian                2                  5   28  False  False   \n",
       "3    False  Caucasian                3                  5   28  False  False   \n",
       "4    False  Caucasian                3                  3  NaN  False  False   \n",
       "\n",
       "        highestdegree  inst1  inst2  inst3  inst4  inst5  instbudget  \\\n",
       "0   Bachelor's Degree      9      0      2     60      0     1250000   \n",
       "1  Associate's Degree      9      0      2     60      0     1250000   \n",
       "2   Bachelor's Degree      9      0      2     60      0     1250000   \n",
       "3     Master's Degree      9      0      2     60      0     1250000   \n",
       "4   Bachelor's Degree      9      0      2     60      0     1250000   \n",
       "\n",
       "        city state    zip        country category  instsize  \\\n",
       "0  Fairbanks    AK  99775  United States      one      9223   \n",
       "1  Fairbanks    AK  99775  United States      one      9223   \n",
       "2  Fairbanks    AK  99775  United States      one      9223   \n",
       "3  Fairbanks    AK  99775  United States      one      9223   \n",
       "4  Fairbanks    AK  99775  United States      one      9223   \n",
       "\n",
       "             insttype  median     mean    pop  b19013_001  no_male_hs_p  \\\n",
       "0  Public Institution  79,357  120,734  1,251       86579             0   \n",
       "1  Public Institution  79,357  120,734  1,251       86579             0   \n",
       "2  Public Institution  79,357  120,734  1,251       86579             0   \n",
       "3  Public Institution  79,357  120,734  1,251       86579             0   \n",
       "4  Public Institution  79,357  120,734  1,251       86579             0   \n",
       "\n",
       "   no_female_hs_p  at_least_hs_male_p  at_least_hs_female_p  \\\n",
       "0               0                 100                   100   \n",
       "1               0                 100                   100   \n",
       "2               0                 100                   100   \n",
       "3               0                 100                   100   \n",
       "4               0                 100                   100   \n",
       "\n",
       "   at_least_bach_male_p  at_least_bach_female_p  male_unemployment  \\\n",
       "0             75.177305               32.692308           8.495575   \n",
       "1             75.177305               32.692308           8.495575   \n",
       "2             75.177305               32.692308           8.495575   \n",
       "3             75.177305               32.692308           8.495575   \n",
       "4             75.177305               32.692308           8.495575   \n",
       "\n",
       "   female_unemployment  snap  renter  median_rent  foreign_born  \\\n",
       "0            10.091743     0     100         1056     16.255605   \n",
       "1            10.091743     0     100         1056     16.255605   \n",
       "2            10.091743     0     100         1056     16.255605   \n",
       "3            10.091743     0     100         1056     16.255605   \n",
       "4            10.091743     0     100         1056     16.255605   \n",
       "\n",
       "   value_for_owner-occupied_housing_units:__total:_  \\\n",
       "0                                                 0   \n",
       "1                                                 0   \n",
       "2                                                 0   \n",
       "3                                                 0   \n",
       "4                                                 0   \n",
       "\n",
       "   value_for_owner-occupied_housing_units:__less_than_$10,000_  \\\n",
       "0                                                  0             \n",
       "1                                                  0             \n",
       "2                                                  0             \n",
       "3                                                  0             \n",
       "4                                                  0             \n",
       "\n",
       "   value_for_owner-occupied_housing_units:__$10,000_to_$14,999_  \\\n",
       "0                                                  0              \n",
       "1                                                  0              \n",
       "2                                                  0              \n",
       "3                                                  0              \n",
       "4                                                  0              \n",
       "\n",
       "   value_for_owner-occupied_housing_units:__$15,000_to_$19,999_  \\\n",
       "0                                                  0              \n",
       "1                                                  0              \n",
       "2                                                  0              \n",
       "3                                                  0              \n",
       "4                                                  0              \n",
       "\n",
       "   value_for_owner-occupied_housing_units:__$20,000_to_$24,999_  \\\n",
       "0                                                  0              \n",
       "1                                                  0              \n",
       "2                                                  0              \n",
       "3                                                  0              \n",
       "4                                                  0              \n",
       "\n",
       "   value_for_owner-occupied_housing_units:__$25,000_to_$29,999_  \\\n",
       "0                                                  0              \n",
       "1                                                  0              \n",
       "2                                                  0              \n",
       "3                                                  0              \n",
       "4                                                  0              \n",
       "\n",
       "   value_for_owner-occupied_housing_units:__$30,000_to_$34,999_  \\\n",
       "0                                                  0              \n",
       "1                                                  0              \n",
       "2                                                  0              \n",
       "3                                                  0              \n",
       "4                                                  0              \n",
       "\n",
       "   value_for_owner-occupied_housing_units:__$35,000_to_$39,999_  \\\n",
       "0                                                  0              \n",
       "1                                                  0              \n",
       "2                                                  0              \n",
       "3                                                  0              \n",
       "4                                                  0              \n",
       "\n",
       "   value_for_owner-occupied_housing_units:__$40,000_to_$49,999_  \\\n",
       "0                                                  0              \n",
       "1                                                  0              \n",
       "2                                                  0              \n",
       "3                                                  0              \n",
       "4                                                  0              \n",
       "\n",
       "   value_for_owner-occupied_housing_units:__$50,000_to_$59,999_  \\\n",
       "0                                                  0              \n",
       "1                                                  0              \n",
       "2                                                  0              \n",
       "3                                                  0              \n",
       "4                                                  0              \n",
       "\n",
       "   value_for_owner-occupied_housing_units:__$60,000_to_$69,999_  \\\n",
       "0                                                  0              \n",
       "1                                                  0              \n",
       "2                                                  0              \n",
       "3                                                  0              \n",
       "4                                                  0              \n",
       "\n",
       "   value_for_owner-occupied_housing_units:__$70,000_to_$79,999_  \\\n",
       "0                                                  0              \n",
       "1                                                  0              \n",
       "2                                                  0              \n",
       "3                                                  0              \n",
       "4                                                  0              \n",
       "\n",
       "   value_for_owner-occupied_housing_units:__$80,000_to_$89,999_  \\\n",
       "0                                                  0              \n",
       "1                                                  0              \n",
       "2                                                  0              \n",
       "3                                                  0              \n",
       "4                                                  0              \n",
       "\n",
       "   value_for_owner-occupied_housing_units:__$90,000_to_$99,999_  \\\n",
       "0                                                  0              \n",
       "1                                                  0              \n",
       "2                                                  0              \n",
       "3                                                  0              \n",
       "4                                                  0              \n",
       "\n",
       "   value_for_owner-occupied_housing_units:__$100,000_to_$124,999_  \\\n",
       "0                                                  0                \n",
       "1                                                  0                \n",
       "2                                                  0                \n",
       "3                                                  0                \n",
       "4                                                  0                \n",
       "\n",
       "   value_for_owner-occupied_housing_units:__$125,000_to_$149,999_  \\\n",
       "0                                                  0                \n",
       "1                                                  0                \n",
       "2                                                  0                \n",
       "3                                                  0                \n",
       "4                                                  0                \n",
       "\n",
       "   value_for_owner-occupied_housing_units:__$150,000_to_$174,999_  \\\n",
       "0                                                  0                \n",
       "1                                                  0                \n",
       "2                                                  0                \n",
       "3                                                  0                \n",
       "4                                                  0                \n",
       "\n",
       "   value_for_owner-occupied_housing_units:__$175,000_to_$199,999_  \\\n",
       "0                                                  0                \n",
       "1                                                  0                \n",
       "2                                                  0                \n",
       "3                                                  0                \n",
       "4                                                  0                \n",
       "\n",
       "   value_for_owner-occupied_housing_units:__$200,000_to_$249,999_  \\\n",
       "0                                                  0                \n",
       "1                                                  0                \n",
       "2                                                  0                \n",
       "3                                                  0                \n",
       "4                                                  0                \n",
       "\n",
       "   value_for_owner-occupied_housing_units:__$250,000_to_$299,999_  \\\n",
       "0                                                  0                \n",
       "1                                                  0                \n",
       "2                                                  0                \n",
       "3                                                  0                \n",
       "4                                                  0                \n",
       "\n",
       "   value_for_owner-occupied_housing_units:__$300,000_to_$399,999_  \\\n",
       "0                                                  0                \n",
       "1                                                  0                \n",
       "2                                                  0                \n",
       "3                                                  0                \n",
       "4                                                  0                \n",
       "\n",
       "   value_for_owner-occupied_housing_units:__$400,000_to_$499,999_  \\\n",
       "0                                                  0                \n",
       "1                                                  0                \n",
       "2                                                  0                \n",
       "3                                                  0                \n",
       "4                                                  0                \n",
       "\n",
       "   value_for_owner-occupied_housing_units:__$500,000_to_$749,999_  \\\n",
       "0                                                  0                \n",
       "1                                                  0                \n",
       "2                                                  0                \n",
       "3                                                  0                \n",
       "4                                                  0                \n",
       "\n",
       "   value_for_owner-occupied_housing_units:__$750,000_to_$999,999_  \\\n",
       "0                                                  0                \n",
       "1                                                  0                \n",
       "2                                                  0                \n",
       "3                                                  0                \n",
       "4                                                  0                \n",
       "\n",
       "   value_for_owner-occupied_housing_units:__$1,000,000_or_more_  \\\n",
       "0                                                  0              \n",
       "1                                                  0              \n",
       "2                                                  0              \n",
       "3                                                  0              \n",
       "4                                                  0              \n",
       "\n",
       "   sex_by_age:__male:_  sex_by_age:__male:_under_5_years_  \\\n",
       "0                  565                                  0   \n",
       "1                  565                                  0   \n",
       "2                  565                                  0   \n",
       "3                  565                                  0   \n",
       "4                  565                                  0   \n",
       "\n",
       "   sex_by_age:__male:_5_to_9_years_  sex_by_age:__male:_10_to_14_years_  \\\n",
       "0                                 0                                   0   \n",
       "1                                 0                                   0   \n",
       "2                                 0                                   0   \n",
       "3                                 0                                   0   \n",
       "4                                 0                                   0   \n",
       "\n",
       "   sex_by_age:__male:_15_to_17_years_  sex_by_age:__male:_18_and_19_years_  \\\n",
       "0                                   2                                  192   \n",
       "1                                   2                                  192   \n",
       "2                                   2                                  192   \n",
       "3                                   2                                  192   \n",
       "4                                   2                                  192   \n",
       "\n",
       "   sex_by_age:__male:_20_years_  sex_by_age:__male:_21_years_  \\\n",
       "0                            87                            42   \n",
       "1                            87                            42   \n",
       "2                            87                            42   \n",
       "3                            87                            42   \n",
       "4                            87                            42   \n",
       "\n",
       "   sex_by_age:__male:_22_to_24_years_  sex_by_age:__male:_25_to_29_years_  \\\n",
       "0                                 101                                  46   \n",
       "1                                 101                                  46   \n",
       "2                                 101                                  46   \n",
       "3                                 101                                  46   \n",
       "4                                 101                                  46   \n",
       "\n",
       "   sex_by_age:__male:_30_to_34_years_  sex_by_age:__male:_35_to_39_years_  \\\n",
       "0                                  50                                   2   \n",
       "1                                  50                                   2   \n",
       "2                                  50                                   2   \n",
       "3                                  50                                   2   \n",
       "4                                  50                                   2   \n",
       "\n",
       "   sex_by_age:__male:_40_to_44_years_  sex_by_age:__male:_45_to_49_years_  \\\n",
       "0                                   0                                   2   \n",
       "1                                   0                                   2   \n",
       "2                                   0                                   2   \n",
       "3                                   0                                   2   \n",
       "4                                   0                                   2   \n",
       "\n",
       "   sex_by_age:__male:_50_to_54_years_  sex_by_age:__male:_55_to_59_years_  \\\n",
       "0                                   8                                  12   \n",
       "1                                   8                                  12   \n",
       "2                                   8                                  12   \n",
       "3                                   8                                  12   \n",
       "4                                   8                                  12   \n",
       "\n",
       "   sex_by_age:__male:_60_and_61_years_  sex_by_age:__male:_62_to_64_years_  \\\n",
       "0                                    0                                  21   \n",
       "1                                    0                                  21   \n",
       "2                                    0                                  21   \n",
       "3                                    0                                  21   \n",
       "4                                    0                                  21   \n",
       "\n",
       "   sex_by_age:__male:_65_and_66_years_  sex_by_age:__male:_67_to_69_years_  \\\n",
       "0                                    0                                   0   \n",
       "1                                    0                                   0   \n",
       "2                                    0                                   0   \n",
       "3                                    0                                   0   \n",
       "4                                    0                                   0   \n",
       "\n",
       "   sex_by_age:__male:_70_to_74_years_  sex_by_age:__male:_75_to_79_years_  \\\n",
       "0                                   0                                   0   \n",
       "1                                   0                                   0   \n",
       "2                                   0                                   0   \n",
       "3                                   0                                   0   \n",
       "4                                   0                                   0   \n",
       "\n",
       "   sex_by_age:__male:_80_to_84_years_  sex_by_age:__male:_85_years_and_over_  \\\n",
       "0                                   0                                      0   \n",
       "1                                   0                                      0   \n",
       "2                                   0                                      0   \n",
       "3                                   0                                      0   \n",
       "4                                   0                                      0   \n",
       "\n",
       "   sex_by_age:__female:_  sex_by_age:__female:_under_5_years_  \\\n",
       "0                    327                                    0   \n",
       "1                    327                                    0   \n",
       "2                    327                                    0   \n",
       "3                    327                                    0   \n",
       "4                    327                                    0   \n",
       "\n",
       "   sex_by_age:__female:_5_to_9_years_  sex_by_age:__female:_10_to_14_years_  \\\n",
       "0                                   0                                     0   \n",
       "1                                   0                                     0   \n",
       "2                                   0                                     0   \n",
       "3                                   0                                     0   \n",
       "4                                   0                                     0   \n",
       "\n",
       "   sex_by_age:__female:_15_to_17_years_  \\\n",
       "0                                    16   \n",
       "1                                    16   \n",
       "2                                    16   \n",
       "3                                    16   \n",
       "4                                    16   \n",
       "\n",
       "   sex_by_age:__female:_18_and_19_years_  sex_by_age:__female:_20_years_  \\\n",
       "0                                    109                              31   \n",
       "1                                    109                              31   \n",
       "2                                    109                              31   \n",
       "3                                    109                              31   \n",
       "4                                    109                              31   \n",
       "\n",
       "   sex_by_age:__female:_21_years_  sex_by_age:__female:_22_to_24_years_  \\\n",
       "0                              47                                    20   \n",
       "1                              47                                    20   \n",
       "2                              47                                    20   \n",
       "3                              47                                    20   \n",
       "4                              47                                    20   \n",
       "\n",
       "   sex_by_age:__female:_25_to_29_years_  sex_by_age:__female:_30_to_34_years_  \\\n",
       "0                                    71                                     5   \n",
       "1                                    71                                     5   \n",
       "2                                    71                                     5   \n",
       "3                                    71                                     5   \n",
       "4                                    71                                     5   \n",
       "\n",
       "   sex_by_age:__female:_35_to_39_years_  sex_by_age:__female:_40_to_44_years_  \\\n",
       "0                                     0                                     0   \n",
       "1                                     0                                     0   \n",
       "2                                     0                                     0   \n",
       "3                                     0                                     0   \n",
       "4                                     0                                     0   \n",
       "\n",
       "   sex_by_age:__female:_45_to_49_years_  sex_by_age:__female:_50_to_54_years_  \\\n",
       "0                                     0                                     0   \n",
       "1                                     0                                     0   \n",
       "2                                     0                                     0   \n",
       "3                                     0                                     0   \n",
       "4                                     0                                     0   \n",
       "\n",
       "   sex_by_age:__female:_55_to_59_years_  \\\n",
       "0                                    17   \n",
       "1                                    17   \n",
       "2                                    17   \n",
       "3                                    17   \n",
       "4                                    17   \n",
       "\n",
       "   sex_by_age:__female:_60_and_61_years_  \\\n",
       "0                                     11   \n",
       "1                                     11   \n",
       "2                                     11   \n",
       "3                                     11   \n",
       "4                                     11   \n",
       "\n",
       "   sex_by_age:__female:_62_to_64_years_  \\\n",
       "0                                     0   \n",
       "1                                     0   \n",
       "2                                     0   \n",
       "3                                     0   \n",
       "4                                     0   \n",
       "\n",
       "   sex_by_age:__female:_65_and_66_years_  \\\n",
       "0                                      0   \n",
       "1                                      0   \n",
       "2                                      0   \n",
       "3                                      0   \n",
       "4                                      0   \n",
       "\n",
       "   sex_by_age:__female:_67_to_69_years_  sex_by_age:__female:_70_to_74_years_  \\\n",
       "0                                     0                                     0   \n",
       "1                                     0                                     0   \n",
       "2                                     0                                     0   \n",
       "3                                     0                                     0   \n",
       "4                                     0                                     0   \n",
       "\n",
       "   sex_by_age:__female:_75_to_79_years_  sex_by_age:__female:_80_to_84_years_  \\\n",
       "0                                     0                                     0   \n",
       "1                                     0                                     0   \n",
       "2                                     0                                     0   \n",
       "3                                     0                                     0   \n",
       "4                                     0                                     0   \n",
       "\n",
       "   sex_by_age:__female:_85_years_and_over_  commute_over_60  full_time  \\\n",
       "0                                        0                0  65.276074   \n",
       "1                                        0                0  65.276074   \n",
       "2                                        0                0  65.276074   \n",
       "3                                        0                0  65.276074   \n",
       "4                                        0                0  65.276074   \n",
       "\n",
       "   part_time  high_rent_burden  extreme_rent_burden  \n",
       "0  34.723926              37.5                 37.5  \n",
       "1  34.723926              37.5                 37.5  \n",
       "2  34.723926              37.5                 37.5  \n",
       "3  34.723926              37.5                 37.5  \n",
       "4  34.723926              37.5                 37.5  "
      ]
     },
     "execution_count": 124,
     "metadata": {},
     "output_type": "execute_result"
    }
   ],
   "source": [
    "sal.head(5)\n"
   ]
  },
  {
   "cell_type": "code",
   "execution_count": 125,
   "metadata": {
    "collapsed": false
   },
   "outputs": [],
   "source": [
    "#Group columns by data type for getting dummy variables\n",
    "datatypes = sal.columns.to_series().groupby(sal.dtypes).groups"
   ]
  },
  {
   "cell_type": "code",
   "execution_count": 126,
   "metadata": {
    "collapsed": true
   },
   "outputs": [],
   "source": [
    "#Remove missing data\n",
    "sal['missingSalary'] = pd.isnull(sal['salary'])\n",
    "sal = sal[(sal.missingSalary == False)]"
   ]
  },
  {
   "cell_type": "code",
   "execution_count": 127,
   "metadata": {
    "collapsed": false
   },
   "outputs": [],
   "source": [
    "#replace alternate Canada spelling\n",
    "sal[\"country\"] = sal[\"country\"].replace(\"Canada\", \"CANADA\")"
   ]
  },
  {
   "cell_type": "code",
   "execution_count": 128,
   "metadata": {
    "collapsed": false
   },
   "outputs": [],
   "source": [
    "#Prepare variables for reshaping\n",
    "X_numeric_features = ['disabled', 'cred1', 'cred2', 'Unnamed: 0',\n",
    "  'sup1',\n",
    "  'sup2',\n",
    "  'sup3',\n",
    "  'sup4',\n",
    "  'sup5',\n",
    "  'inst1',\n",
    "  'inst2',\n",
    "  'inst3',\n",
    "  'inst4',\n",
    "  'inst5',\n",
    "  'zip',\n",
    "  'yearsinposition',\n",
    "  'yearsinprofession',\n",
    "  'age',\n",
    "  'instbudget',\n",
    "  'instsize',\n",
    "  'b19013_001',\n",
    "  'no_male_hs_p',\n",
    "  'no_female_hs_p',\n",
    "  'at_least_hs_male_p',\n",
    "  'at_least_hs_female_p',\n",
    "  'at_least_bach_male_p',\n",
    "  'at_least_bach_female_p',\n",
    "  'male_unemployment',\n",
    "  'female_unemployment',\n",
    "  'snap',\n",
    "  'renter',\n",
    "  'median_rent',\n",
    "  'foreign_born',\n",
    "  'value_for_owner-occupied_housing_units:__total:_',\n",
    "  'value_for_owner-occupied_housing_units:__less_than_$10,000_',\n",
    "  'value_for_owner-occupied_housing_units:__$10,000_to_$14,999_',\n",
    "  'value_for_owner-occupied_housing_units:__$15,000_to_$19,999_',\n",
    "  'value_for_owner-occupied_housing_units:__$20,000_to_$24,999_',\n",
    "  'value_for_owner-occupied_housing_units:__$25,000_to_$29,999_',\n",
    "  'value_for_owner-occupied_housing_units:__$30,000_to_$34,999_',\n",
    "  'value_for_owner-occupied_housing_units:__$35,000_to_$39,999_',\n",
    "  'value_for_owner-occupied_housing_units:__$40,000_to_$49,999_',\n",
    "  'value_for_owner-occupied_housing_units:__$50,000_to_$59,999_',\n",
    "  'value_for_owner-occupied_housing_units:__$60,000_to_$69,999_',\n",
    "  'value_for_owner-occupied_housing_units:__$70,000_to_$79,999_',\n",
    "  'value_for_owner-occupied_housing_units:__$80,000_to_$89,999_',\n",
    "  'value_for_owner-occupied_housing_units:__$90,000_to_$99,999_',\n",
    "  'value_for_owner-occupied_housing_units:__$100,000_to_$124,999_',\n",
    "  'value_for_owner-occupied_housing_units:__$125,000_to_$149,999_',\n",
    "  'value_for_owner-occupied_housing_units:__$150,000_to_$174,999_',\n",
    "  'value_for_owner-occupied_housing_units:__$175,000_to_$199,999_',\n",
    "  'value_for_owner-occupied_housing_units:__$200,000_to_$249,999_',\n",
    "  'value_for_owner-occupied_housing_units:__$250,000_to_$299,999_',\n",
    "  'value_for_owner-occupied_housing_units:__$300,000_to_$399,999_',\n",
    "  'value_for_owner-occupied_housing_units:__$400,000_to_$499,999_',\n",
    "  'value_for_owner-occupied_housing_units:__$500,000_to_$749,999_',\n",
    "  'value_for_owner-occupied_housing_units:__$750,000_to_$999,999_',\n",
    "  'value_for_owner-occupied_housing_units:__$1,000,000_or_more_',\n",
    "  'sex_by_age:__male:_',\n",
    "  'sex_by_age:__male:_under_5_years_',\n",
    "  'sex_by_age:__male:_5_to_9_years_',\n",
    "  'sex_by_age:__male:_10_to_14_years_',\n",
    "  'sex_by_age:__male:_15_to_17_years_',\n",
    "  'sex_by_age:__male:_18_and_19_years_',\n",
    "  'sex_by_age:__male:_20_years_',\n",
    "  'sex_by_age:__male:_21_years_',\n",
    "  'sex_by_age:__male:_22_to_24_years_',\n",
    "  'sex_by_age:__male:_25_to_29_years_',\n",
    "  'sex_by_age:__male:_30_to_34_years_',\n",
    "  'sex_by_age:__male:_35_to_39_years_',\n",
    "  'sex_by_age:__male:_40_to_44_years_',\n",
    "  'sex_by_age:__male:_45_to_49_years_',\n",
    "  'sex_by_age:__male:_50_to_54_years_',\n",
    "  'sex_by_age:__male:_55_to_59_years_',\n",
    "  'sex_by_age:__male:_60_and_61_years_',\n",
    "  'sex_by_age:__male:_62_to_64_years_',\n",
    "  'sex_by_age:__male:_65_and_66_years_',\n",
    "  'sex_by_age:__male:_67_to_69_years_',\n",
    "  'sex_by_age:__male:_70_to_74_years_',\n",
    "  'sex_by_age:__male:_75_to_79_years_',\n",
    "  'sex_by_age:__male:_80_to_84_years_',\n",
    "  'sex_by_age:__male:_85_years_and_over_',\n",
    "  'sex_by_age:__female:_',\n",
    "  'sex_by_age:__female:_under_5_years_',\n",
    "  'sex_by_age:__female:_5_to_9_years_',\n",
    "  'sex_by_age:__female:_10_to_14_years_',\n",
    "  'sex_by_age:__female:_15_to_17_years_',\n",
    "  'sex_by_age:__female:_18_and_19_years_',\n",
    "  'sex_by_age:__female:_20_years_',\n",
    "  'sex_by_age:__female:_21_years_',\n",
    "  'sex_by_age:__female:_22_to_24_years_',\n",
    "  'sex_by_age:__female:_25_to_29_years_',\n",
    "  'sex_by_age:__female:_30_to_34_years_',\n",
    "  'sex_by_age:__female:_35_to_39_years_',\n",
    "  'sex_by_age:__female:_40_to_44_years_',\n",
    "  'sex_by_age:__female:_45_to_49_years_',\n",
    "  'sex_by_age:__female:_50_to_54_years_',\n",
    "  'sex_by_age:__female:_55_to_59_years_',\n",
    "  'sex_by_age:__female:_60_and_61_years_',\n",
    "  'sex_by_age:__female:_62_to_64_years_',\n",
    "  'sex_by_age:__female:_65_and_66_years_',\n",
    "  'sex_by_age:__female:_67_to_69_years_',\n",
    "  'sex_by_age:__female:_70_to_74_years_',\n",
    "  'sex_by_age:__female:_75_to_79_years_',\n",
    "  'sex_by_age:__female:_80_to_84_years_',\n",
    "  'sex_by_age:__female:_85_years_and_over_',\n",
    "  'commute_over_60',\n",
    "  'full_time',\n",
    "  'part_time',\n",
    "  'high_rent_burden',\n",
    "  'extreme_rent_burden']\n",
    "X_numeric = sal[X_numeric_features]\n",
    "X_categorical_features = ['function', 'gender', 'race', 'highestdegree', 'category', 'insttype', 'city', 'state', 'country', 'median', 'mean', 'pop']\n",
    "X_categorical = sal[X_categorical_features]\n",
    "\n",
    "\n",
    "\n"
   ]
  },
  {
   "cell_type": "code",
   "execution_count": 129,
   "metadata": {
    "collapsed": false
   },
   "outputs": [],
   "source": [
    "#Concatenate dummy variables into a matrix\n",
    "Function_dummies = pd.get_dummies(X_categorical['function'])\n",
    "gender_dummies = pd.get_dummies(X_categorical['gender'])\n",
    "race_dummies = pd.get_dummies(X_categorical['race'])\n",
    "highestDegree_dummies = pd.get_dummies(X_categorical['highestdegree'])\n",
    "Category_dummies = pd.get_dummies(X_categorical['category'])\n",
    "instType_dummies = pd.get_dummies(X_categorical['insttype'])\n",
    "city_dummies = pd.get_dummies(X_categorical['city'])\n",
    "state_dummies = pd.get_dummies(X_categorical['state'])\n",
    "country_dummies = pd.get_dummies(X_categorical['country'])\n",
    "median_dummies = pd.get_dummies(X_categorical['median'])\n",
    "mean_dummies = pd.get_dummies(X_categorical['mean'])\n",
    "pop_dummies = pd.get_dummies(X_categorical['pop'])\n",
    "\n",
    "X_dummy_features = pd.concat([Function_dummies, gender_dummies, race_dummies, highestDegree_dummies, Category_dummies, instType_dummies, city_dummies, \n",
    "state_dummies,\n",
    "country_dummies,\n",
    "median_dummies,\n",
    "mean_dummies,\n",
    "pop_dummies], axis=1)\n",
    "\n",
    "# convert to ndarray\n",
    "X_dummy_features = X_dummy_features.as_matrix()"
   ]
  },
  {
   "cell_type": "code",
   "execution_count": 130,
   "metadata": {
    "collapsed": true
   },
   "outputs": [],
   "source": [
    "#Impute values\n",
    "from sklearn.preprocessing import Imputer\n",
    "imp = Imputer()\n",
    "imp.fit(X_numeric)\n",
    "X_numeric_imputed = imp.transform(X_numeric)"
   ]
  },
  {
   "cell_type": "code",
   "execution_count": 131,
   "metadata": {
    "collapsed": true
   },
   "outputs": [],
   "source": [
    "#Combine final X values\n",
    "X = np.concatenate((X_dummy_features, X_numeric_imputed), axis=1)\n",
    "#X = np.expand_dims(X, axis=1)\n",
    "y = sal.iloc[:, 7].values\n",
    "y = np.expand_dims(y, axis=1)"
   ]
  },
  {
   "cell_type": "code",
   "execution_count": 132,
   "metadata": {
    "collapsed": false
   },
   "outputs": [],
   "source": [
    "#Split data for training and test\n",
    "from sklearn.cross_validation import train_test_split\n",
    "X_train, X_test, y_train, y_test = train_test_split(X, y, test_size=0.3, random_state=0)"
   ]
  },
  {
   "cell_type": "code",
   "execution_count": 133,
   "metadata": {
    "collapsed": false
   },
   "outputs": [],
   "source": [
    "#Scale data\n",
    "from sklearn.preprocessing import StandardScaler\n",
    "scalerX = StandardScaler().fit(X_train)\n",
    "scalery = StandardScaler().fit(y_train)\n",
    "X_train = scalerX.transform(X_train)\n",
    "y_train = scalery.transform(y_train)\n",
    "X_test = scalerX.transform(X_test)\n",
    "y_test = scalery.transform(y_test)"
   ]
  },
  {
   "cell_type": "code",
   "execution_count": 134,
   "metadata": {
    "collapsed": true
   },
   "outputs": [],
   "source": [
    "#Reshape Y\n",
    "y_train = y_train.reshape(1529,)"
   ]
  },
  {
   "cell_type": "code",
   "execution_count": 135,
   "metadata": {
    "collapsed": true
   },
   "outputs": [],
   "source": [
    "from sklearn import ensemble"
   ]
  },
  {
   "cell_type": "code",
   "execution_count": 136,
   "metadata": {
    "collapsed": true
   },
   "outputs": [],
   "source": [
    "from sklearn import svm"
   ]
  },
  {
   "cell_type": "code",
   "execution_count": 137,
   "metadata": {
    "collapsed": false
   },
   "outputs": [
    {
     "data": {
      "text/plain": [
       "RANSACRegressor(base_estimator=ExtraTreesRegressor(bootstrap=False, criterion='mse', max_depth=None,\n",
       "          max_features='auto', max_leaf_nodes=None, min_samples_leaf=1,\n",
       "          min_samples_split=2, min_weight_fraction_leaf=0.0,\n",
       "          n_estimators=10, n_jobs=1, oob_score=False, random_state=42,\n",
       "          verbose=0, warm_start=False),\n",
       "        is_data_valid=None, is_model_valid=None, max_trials=100,\n",
       "        min_samples=50, random_state=None, residual_metric=None,\n",
       "        residual_threshold=20000, stop_n_inliers=inf,\n",
       "        stop_probability=0.99, stop_score=inf)"
      ]
     },
     "execution_count": 137,
     "metadata": {},
     "output_type": "execute_result"
    }
   ],
   "source": [
    "ransac_et = linear_model.RANSACRegressor(ensemble.ExtraTreesRegressor(n_estimators=10, random_state=42), max_trials=100, min_samples=50, residual_threshold=20000)\n",
    "ransac_et.fit(X_train, y_train)"
   ]
  },
  {
   "cell_type": "code",
   "execution_count": 138,
   "metadata": {
    "collapsed": false
   },
   "outputs": [
    {
     "data": {
      "text/plain": [
       "RANSACRegressor(base_estimator=ExtraTreesRegressor(bootstrap=False, criterion='mse', max_depth=None,\n",
       "          max_features='auto', max_leaf_nodes=None, min_samples_leaf=1,\n",
       "          min_samples_split=2, min_weight_fraction_leaf=0.0,\n",
       "          n_estimators=10, n_jobs=1, oob_score=False, random_state=42,\n",
       "          verbose=0, warm_start=False),\n",
       "        is_data_valid=None, is_model_valid=None, max_trials=100,\n",
       "        min_samples=50, random_state=None, residual_metric=None,\n",
       "        residual_threshold=20000, stop_n_inliers=inf,\n",
       "        stop_probability=0.99, stop_score=inf)"
      ]
     },
     "execution_count": 138,
     "metadata": {},
     "output_type": "execute_result"
    }
   ],
   "source": [
    "ransac_svr_linear = linear_model.RANSACRegressor(svm.SVR(kernel='linear'), max_trials=100, min_samples=50, residual_threshold=20000)\n",
    "ransac_et.fit(X_train, y_train)"
   ]
  },
  {
   "cell_type": "code",
   "execution_count": 139,
   "metadata": {
    "collapsed": false
   },
   "outputs": [
    {
     "data": {
      "text/plain": [
       "RANSACRegressor(base_estimator=ExtraTreesRegressor(bootstrap=False, criterion='mse', max_depth=None,\n",
       "          max_features='auto', max_leaf_nodes=None, min_samples_leaf=1,\n",
       "          min_samples_split=2, min_weight_fraction_leaf=0.0,\n",
       "          n_estimators=10, n_jobs=1, oob_score=False, random_state=42,\n",
       "          verbose=0, warm_start=False),\n",
       "        is_data_valid=None, is_model_valid=None, max_trials=100,\n",
       "        min_samples=50, random_state=None, residual_metric=None,\n",
       "        residual_threshold=20000, stop_n_inliers=inf,\n",
       "        stop_probability=0.99, stop_score=inf)"
      ]
     },
     "execution_count": 139,
     "metadata": {},
     "output_type": "execute_result"
    }
   ],
   "source": [
    "ransac_svr_poly = linear_model.RANSACRegressor(svm.SVR(kernel='poly'), max_trials=100, min_samples=50, residual_threshold=20000)\n",
    "ransac_et.fit(X_train, y_train)"
   ]
  },
  {
   "cell_type": "code",
   "execution_count": 140,
   "metadata": {
    "collapsed": false
   },
   "outputs": [
    {
     "data": {
      "text/plain": [
       "RANSACRegressor(base_estimator=ExtraTreesRegressor(bootstrap=False, criterion='mse', max_depth=None,\n",
       "          max_features='auto', max_leaf_nodes=None, min_samples_leaf=1,\n",
       "          min_samples_split=2, min_weight_fraction_leaf=0.0,\n",
       "          n_estimators=10, n_jobs=1, oob_score=False, random_state=42,\n",
       "          verbose=0, warm_start=False),\n",
       "        is_data_valid=None, is_model_valid=None, max_trials=100,\n",
       "        min_samples=50, random_state=None, residual_metric=None,\n",
       "        residual_threshold=20000, stop_n_inliers=inf,\n",
       "        stop_probability=0.99, stop_score=inf)"
      ]
     },
     "execution_count": 140,
     "metadata": {},
     "output_type": "execute_result"
    }
   ],
   "source": [
    "ransac_svr_rbf = linear_model.RANSACRegressor(svm.SVR(kernel='rbf'), max_trials=100, min_samples=50, residual_threshold=20000)\n",
    "ransac_et.fit(X_train, y_train)"
   ]
  },
  {
   "cell_type": "code",
   "execution_count": 141,
   "metadata": {
    "collapsed": false
   },
   "outputs": [
    {
     "data": {
      "text/plain": [
       "RANSACRegressor(base_estimator=ExtraTreesRegressor(bootstrap=False, criterion='mse', max_depth=None,\n",
       "          max_features='auto', max_leaf_nodes=None, min_samples_leaf=1,\n",
       "          min_samples_split=2, min_weight_fraction_leaf=0.0,\n",
       "          n_estimators=10, n_jobs=1, oob_score=False, random_state=42,\n",
       "          verbose=0, warm_start=False),\n",
       "        is_data_valid=None, is_model_valid=None, max_trials=100,\n",
       "        min_samples=50, random_state=None, residual_metric=None,\n",
       "        residual_threshold=20000, stop_n_inliers=inf,\n",
       "        stop_probability=0.99, stop_score=inf)"
      ]
     },
     "execution_count": 141,
     "metadata": {},
     "output_type": "execute_result"
    }
   ],
   "source": [
    "ransac_linearReg = linear_model.RANSACRegressor(linear_model.LinearRegression(), max_trials=100, min_samples=50, residual_threshold=20000)\n",
    "ransac_et.fit(X_train, y_train)"
   ]
  },
  {
   "cell_type": "code",
   "execution_count": 142,
   "metadata": {
    "collapsed": false
   },
   "outputs": [],
   "source": [
    "'''create a function to train and cross-validate the data using:\n",
    "SGD regressor; \n",
    "SVR with Linear, Poly, and RBF kernels; \n",
    "extra-trees regressor;\n",
    "Linear regression'''\n",
    "from sklearn.cross_validation import *\n",
    "def train_and_evaluate(regr, X_train, y_train, name):\n",
    "    regr.fit(X_train, y_train)\n",
    "    print(\"Training and cross-validating data using: \", name)\n",
    "    print(\" \")\n",
    "    print (\"Variance on training set:\\n\",regr.score(X_train, y_train))\n",
    "        # create a k-fold cross validation iterator of k=10 folds\n",
    "    #print(\" \")\n",
    "    #print(\"Use K-fold cross-validation to validate model prediction\")\n",
    "    #cv = KFold(X_train.shape[0], 10, shuffle=True, random_state=42)\n",
    "    #scores = cross_val_score(regr, X_train, y_train, cv=cv)\n",
    "    #print(scores)\n",
    "    #print(\" \")   \n",
    "    #Average the 10 folds\n",
    "    #print (\"Average Variance using 10-fold cross validation:\",np.mean(scores))\n",
    "    print(\" \")   \n",
    "        # The mean square error\n",
    "    print(\"Residual sum of squares, training data: %.2f\" % np.mean((regr.predict(X_train) - y_train) ** 2))"
   ]
  },
  {
   "cell_type": "code",
   "execution_count": 143,
   "metadata": {
    "collapsed": true
   },
   "outputs": [],
   "source": [
    "from sklearn import linear_model"
   ]
  },
  {
   "cell_type": "code",
   "execution_count": 144,
   "metadata": {
    "collapsed": false,
    "scrolled": true
   },
   "outputs": [
    {
     "name": "stdout",
     "output_type": "stream",
     "text": [
      "Training and cross-validating data using:  SGD regressor with penalty\n",
      " \n",
      "Variance on training set:\n",
      " -1.42656827401e+13\n",
      " \n",
      "Residual sum of squares, training data: 14265682740118.68\n"
     ]
    }
   ],
   "source": [
    "#Adding penalty to SGD\n",
    "clf_sgd = linear_model.SGDRegressor(loss='squared_loss', penalty='l1',  random_state=42)\n",
    "train_and_evaluate(clf_sgd, X_train, y_train, \"SGD regressor with penalty\")"
   ]
  },
  {
   "cell_type": "code",
   "execution_count": null,
   "metadata": {
    "collapsed": true
   },
   "outputs": [],
   "source": []
  },
  {
   "cell_type": "code",
   "execution_count": 145,
   "metadata": {
    "collapsed": false
   },
   "outputs": [
    {
     "name": "stdout",
     "output_type": "stream",
     "text": [
      "Training and cross-validating data using:  Support vector regression linear kernel\n",
      " \n",
      "Variance on training set:\n",
      " 0.817293686151\n",
      " \n",
      "Residual sum of squares, training data: 0.18\n"
     ]
    }
   ],
   "source": [
    "#clf_svr = svm.SVR(kernel='linear')\n",
    "train_and_evaluate(ransac_svr_linear, X_train, y_train, \"Support vector regression linear kernel\")\n"
   ]
  },
  {
   "cell_type": "code",
   "execution_count": 146,
   "metadata": {
    "collapsed": false
   },
   "outputs": [
    {
     "name": "stdout",
     "output_type": "stream",
     "text": [
      "Training and cross-validating data using:  Support vector regression poly kernel\n",
      " \n",
      "Variance on training set:\n",
      " 0.28916476719\n",
      " \n",
      "Residual sum of squares, training data: 0.71\n"
     ]
    }
   ],
   "source": [
    "#clf_svr_poly = svm.SVR(kernel='poly')\n",
    "train_and_evaluate(ransac_svr_poly, X_train, y_train, \"Support vector regression poly kernel\")"
   ]
  },
  {
   "cell_type": "code",
   "execution_count": 147,
   "metadata": {
    "collapsed": false
   },
   "outputs": [
    {
     "name": "stdout",
     "output_type": "stream",
     "text": [
      "Training and cross-validating data using:  Support vector regression rbf kernel\n",
      " \n",
      "Variance on training set:\n",
      " 0.723760938372\n",
      " \n",
      "Residual sum of squares, training data: 0.28\n"
     ]
    }
   ],
   "source": [
    "#clf_svr_rbf = svm.SVR(kernel='rbf')\n",
    "train_and_evaluate(ransac_svr_rbf, X_train, y_train, \"Support vector regression rbf kernel\")"
   ]
  },
  {
   "cell_type": "code",
   "execution_count": 148,
   "metadata": {
    "collapsed": false
   },
   "outputs": [
    {
     "name": "stdout",
     "output_type": "stream",
     "text": [
      "Training and cross-validating data using:  Extra trees regressor\n",
      " \n",
      "Variance on training set:\n",
      " 0.99999999981\n",
      " \n",
      "Residual sum of squares, training data: 0.00\n"
     ]
    }
   ],
   "source": [
    "\n",
    "#clf_et=ensemble.ExtraTreesRegressor(n_estimators=10, random_state=42)\n",
    "train_and_evaluate(ransac_et, X_train, y_train, \"Extra trees regressor\")"
   ]
  },
  {
   "cell_type": "code",
   "execution_count": 149,
   "metadata": {
    "collapsed": false
   },
   "outputs": [
    {
     "name": "stdout",
     "output_type": "stream",
     "text": [
      "Training and cross-validating data using:  Linear regression\n",
      " \n",
      "Variance on training set:\n",
      " 0.833701933653\n",
      " \n",
      "Residual sum of squares, training data: 0.17\n"
     ]
    }
   ],
   "source": [
    "#regr = linear_model.LinearRegression()\n",
    "train_and_evaluate(ransac_linearReg, X_train, y_train, \"Linear regression\")"
   ]
  },
  {
   "cell_type": "code",
   "execution_count": 150,
   "metadata": {
    "collapsed": true
   },
   "outputs": [],
   "source": [
    "##Fit test data with RANSAC outlier excepting wrapper"
   ]
  },
  {
   "cell_type": "code",
   "execution_count": 151,
   "metadata": {
    "collapsed": false
   },
   "outputs": [
    {
     "name": "stderr",
     "output_type": "stream",
     "text": [
      "/Users/ianssmith/anaconda3/lib/python3.5/site-packages/sklearn/linear_model/ransac.py:272: DataConversionWarning: A column-vector y was passed when a 1d array was expected. Please change the shape of y to (n_samples,), for example using ravel().\n",
      "  base_estimator.fit(X_subset, y_subset)\n",
      "/Users/ianssmith/anaconda3/lib/python3.5/site-packages/sklearn/linear_model/ransac.py:339: DataConversionWarning: A column-vector y was passed when a 1d array was expected. Please change the shape of y to (n_samples,), for example using ravel().\n",
      "  base_estimator.fit(X_inlier_best, y_inlier_best)\n"
     ]
    },
    {
     "data": {
      "text/plain": [
       "RANSACRegressor(base_estimator=ExtraTreesRegressor(bootstrap=False, criterion='mse', max_depth=None,\n",
       "          max_features='auto', max_leaf_nodes=None, min_samples_leaf=1,\n",
       "          min_samples_split=2, min_weight_fraction_leaf=0.0,\n",
       "          n_estimators=10, n_jobs=1, oob_score=False, random_state=42,\n",
       "          verbose=0, warm_start=False),\n",
       "        is_data_valid=None, is_model_valid=None, max_trials=100,\n",
       "        min_samples=50, random_state=None, residual_metric=None,\n",
       "        residual_threshold=20000, stop_n_inliers=inf,\n",
       "        stop_probability=0.99, stop_score=inf)"
      ]
     },
     "execution_count": 151,
     "metadata": {},
     "output_type": "execute_result"
    }
   ],
   "source": [
    "ransac_et = linear_model.RANSACRegressor(ensemble.ExtraTreesRegressor(n_estimators=10, random_state=42), max_trials=100, min_samples=50, residual_threshold=20000)\n",
    "ransac_et.fit(X_test, y_test)"
   ]
  },
  {
   "cell_type": "code",
   "execution_count": 152,
   "metadata": {
    "collapsed": false
   },
   "outputs": [
    {
     "name": "stderr",
     "output_type": "stream",
     "text": [
      "/Users/ianssmith/anaconda3/lib/python3.5/site-packages/sklearn/svm/base.py:216: DataConversionWarning: A column-vector y was passed when a 1d array was expected. Please change the shape of y to (n_samples, ), for example using ravel().\n",
      "  return column_or_1d(y, warn=True).astype(np.float64)\n",
      "/Users/ianssmith/anaconda3/lib/python3.5/site-packages/sklearn/svm/base.py:216: DataConversionWarning: A column-vector y was passed when a 1d array was expected. Please change the shape of y to (n_samples, ), for example using ravel().\n",
      "  return column_or_1d(y, warn=True).astype(np.float64)\n"
     ]
    },
    {
     "data": {
      "text/plain": [
       "RANSACRegressor(base_estimator=SVR(C=1.0, cache_size=200, coef0=0.0, degree=3, epsilon=0.1, gamma='auto',\n",
       "  kernel='linear', max_iter=-1, shrinking=True, tol=0.001, verbose=False),\n",
       "        is_data_valid=None, is_model_valid=None, max_trials=100,\n",
       "        min_samples=50, random_state=None, residual_metric=None,\n",
       "        residual_threshold=20000, stop_n_inliers=inf,\n",
       "        stop_probability=0.99, stop_score=inf)"
      ]
     },
     "execution_count": 152,
     "metadata": {},
     "output_type": "execute_result"
    }
   ],
   "source": [
    "ransac_svr_linear = linear_model.RANSACRegressor(svm.SVR(kernel='linear'), max_trials=100, min_samples=50, residual_threshold=20000)#(ensemble.ExtraTreesRegressor(n_estimators=10, random_state=42), max_trials=100, min_samples=50, residual_threshold=20000)\n",
    "ransac_svr_linear.fit(X_test, y_test)"
   ]
  },
  {
   "cell_type": "code",
   "execution_count": 153,
   "metadata": {
    "collapsed": false
   },
   "outputs": [
    {
     "name": "stderr",
     "output_type": "stream",
     "text": [
      "/Users/ianssmith/anaconda3/lib/python3.5/site-packages/sklearn/svm/base.py:216: DataConversionWarning: A column-vector y was passed when a 1d array was expected. Please change the shape of y to (n_samples, ), for example using ravel().\n",
      "  return column_or_1d(y, warn=True).astype(np.float64)\n",
      "/Users/ianssmith/anaconda3/lib/python3.5/site-packages/sklearn/svm/base.py:216: DataConversionWarning: A column-vector y was passed when a 1d array was expected. Please change the shape of y to (n_samples, ), for example using ravel().\n",
      "  return column_or_1d(y, warn=True).astype(np.float64)\n"
     ]
    },
    {
     "data": {
      "text/plain": [
       "RANSACRegressor(base_estimator=SVR(C=1.0, cache_size=200, coef0=0.0, degree=3, epsilon=0.1, gamma='auto',\n",
       "  kernel='poly', max_iter=-1, shrinking=True, tol=0.001, verbose=False),\n",
       "        is_data_valid=None, is_model_valid=None, max_trials=100,\n",
       "        min_samples=50, random_state=None, residual_metric=None,\n",
       "        residual_threshold=20000, stop_n_inliers=inf,\n",
       "        stop_probability=0.99, stop_score=inf)"
      ]
     },
     "execution_count": 153,
     "metadata": {},
     "output_type": "execute_result"
    }
   ],
   "source": [
    "ransac_svr_poly = linear_model.RANSACRegressor(svm.SVR(kernel='poly'), max_trials=100, min_samples=50, residual_threshold=20000)#(ensemble.ExtraTreesRegressor(n_estimators=10, random_state=42), max_trials=100, min_samples=50, residual_threshold=20000)\n",
    "ransac_svr_poly.fit(X_test, y_test)"
   ]
  },
  {
   "cell_type": "code",
   "execution_count": 154,
   "metadata": {
    "collapsed": false
   },
   "outputs": [
    {
     "name": "stderr",
     "output_type": "stream",
     "text": [
      "/Users/ianssmith/anaconda3/lib/python3.5/site-packages/sklearn/svm/base.py:216: DataConversionWarning: A column-vector y was passed when a 1d array was expected. Please change the shape of y to (n_samples, ), for example using ravel().\n",
      "  return column_or_1d(y, warn=True).astype(np.float64)\n",
      "/Users/ianssmith/anaconda3/lib/python3.5/site-packages/sklearn/svm/base.py:216: DataConversionWarning: A column-vector y was passed when a 1d array was expected. Please change the shape of y to (n_samples, ), for example using ravel().\n",
      "  return column_or_1d(y, warn=True).astype(np.float64)\n"
     ]
    },
    {
     "data": {
      "text/plain": [
       "RANSACRegressor(base_estimator=SVR(C=1.0, cache_size=200, coef0=0.0, degree=3, epsilon=0.1, gamma='auto',\n",
       "  kernel='rbf', max_iter=-1, shrinking=True, tol=0.001, verbose=False),\n",
       "        is_data_valid=None, is_model_valid=None, max_trials=100,\n",
       "        min_samples=50, random_state=None, residual_metric=None,\n",
       "        residual_threshold=20000, stop_n_inliers=inf,\n",
       "        stop_probability=0.99, stop_score=inf)"
      ]
     },
     "execution_count": 154,
     "metadata": {},
     "output_type": "execute_result"
    }
   ],
   "source": [
    "ransac_svr_rbf = linear_model.RANSACRegressor(svm.SVR(kernel='rbf'), max_trials=100, min_samples=50, residual_threshold=20000)#(ensemble.ExtraTreesRegressor(n_estimators=10, random_state=42), max_trials=100, min_samples=50, residual_threshold=20000)\n",
    "ransac_svr_rbf.fit(X_test, y_test)"
   ]
  },
  {
   "cell_type": "code",
   "execution_count": 155,
   "metadata": {
    "collapsed": false
   },
   "outputs": [
    {
     "data": {
      "text/plain": [
       "RANSACRegressor(base_estimator=LinearRegression(copy_X=True, fit_intercept=True, n_jobs=1, normalize=False),\n",
       "        is_data_valid=None, is_model_valid=None, max_trials=100,\n",
       "        min_samples=50, random_state=None, residual_metric=None,\n",
       "        residual_threshold=20000, stop_n_inliers=inf,\n",
       "        stop_probability=0.99, stop_score=inf)"
      ]
     },
     "execution_count": 155,
     "metadata": {},
     "output_type": "execute_result"
    }
   ],
   "source": [
    "ransac_linearReg = linear_model.RANSACRegressor(linear_model.LinearRegression(), max_trials=100, min_samples=50, residual_threshold=20000)#(ensemble.ExtraTreesRegressor(n_estimators=10, random_state=42), max_trials=100, min_samples=50, residual_threshold=20000)\n",
    "ransac_linearReg.fit(X_test, y_test)"
   ]
  },
  {
   "cell_type": "code",
   "execution_count": 156,
   "metadata": {
    "collapsed": false
   },
   "outputs": [],
   "source": [
    "#Create function to run trained models on test data\n",
    "from sklearn import metrics\n",
    "def measure_performance(X, y, clf, name, show_r2_score=False):\n",
    "    y_pred = clf.predict(X)\n",
    "    if show_r2_score:\n",
    "        print(\"Predicting test-set using: \", name)\n",
    "        print(\" \")\n",
    "        print (\"Variance for test set:{0:.5f}\".format(metrics.r2_score(y, y_pred)))"
   ]
  },
  {
   "cell_type": "code",
   "execution_count": 157,
   "metadata": {
    "collapsed": false
   },
   "outputs": [
    {
     "name": "stdout",
     "output_type": "stream",
     "text": [
      "Predicting test-set using:  Linear regression\n",
      " \n",
      "Variance for test set:-2202619156856272261742592.00000\n"
     ]
    }
   ],
   "source": [
    "measure_performance(X_test, y_test, regr, \"Linear regression\", show_r2_score=True)"
   ]
  },
  {
   "cell_type": "code",
   "execution_count": 158,
   "metadata": {
    "collapsed": false
   },
   "outputs": [
    {
     "name": "stdout",
     "output_type": "stream",
     "text": [
      "Predicting test-set using:  SGD kernel\n",
      " \n",
      "Variance for test set:-3473745428577.87158\n"
     ]
    }
   ],
   "source": [
    "measure_performance(X_test, y_test, clf_sgd, \"SGD kernel\", show_r2_score=True)"
   ]
  },
  {
   "cell_type": "code",
   "execution_count": 159,
   "metadata": {
    "collapsed": false
   },
   "outputs": [
    {
     "name": "stdout",
     "output_type": "stream",
     "text": [
      "Predicting test-set using:  SVR linear kernel\n",
      " \n",
      "Variance for test set:0.72829\n"
     ]
    }
   ],
   "source": [
    "measure_performance(X_test, y_test, clf_svr, \"SVR linear kernel\", show_r2_score=True)"
   ]
  },
  {
   "cell_type": "code",
   "execution_count": 160,
   "metadata": {
    "collapsed": false
   },
   "outputs": [
    {
     "name": "stdout",
     "output_type": "stream",
     "text": [
      "Predicting test-set using:  SVR poly kernel\n",
      " \n",
      "Variance for test set:0.10094\n"
     ]
    }
   ],
   "source": [
    "measure_performance(X_test, y_test, clf_svr_poly, \"SVR poly kernel\", show_r2_score=True)"
   ]
  },
  {
   "cell_type": "code",
   "execution_count": 161,
   "metadata": {
    "collapsed": false
   },
   "outputs": [
    {
     "name": "stdout",
     "output_type": "stream",
     "text": [
      "Predicting test-set using:  SVR rbf kernel\n",
      " \n",
      "Variance for test set:0.57954\n"
     ]
    }
   ],
   "source": [
    "measure_performance(X_test, y_test, clf_svr_rbf, \"SVR rbf kernel\", show_r2_score=True)"
   ]
  },
  {
   "cell_type": "code",
   "execution_count": 162,
   "metadata": {
    "collapsed": false
   },
   "outputs": [
    {
     "name": "stdout",
     "output_type": "stream",
     "text": [
      "Predicting test-set using:  Extra-Trees regressor\n",
      " \n",
      "Variance for test set:0.70555\n"
     ]
    }
   ],
   "source": [
    "measure_performance(X_test, y_test, clf_et, \"Extra-Trees regressor\", show_r2_score=True)"
   ]
  },
  {
   "cell_type": "code",
   "execution_count": 163,
   "metadata": {
    "collapsed": true
   },
   "outputs": [],
   "source": [
    "#Fitted with Ransac outlier detection"
   ]
  },
  {
   "cell_type": "code",
   "execution_count": 164,
   "metadata": {
    "collapsed": false
   },
   "outputs": [
    {
     "name": "stdout",
     "output_type": "stream",
     "text": [
      "Predicting test-set using:  Linear Regression\n",
      " \n",
      "Variance for test set:0.83713\n"
     ]
    }
   ],
   "source": [
    "measure_performance(X_test, y_test, ransac_linearReg, \"Linear Regression\", show_r2_score=True)"
   ]
  },
  {
   "cell_type": "code",
   "execution_count": 165,
   "metadata": {
    "collapsed": false
   },
   "outputs": [
    {
     "name": "stdout",
     "output_type": "stream",
     "text": [
      "Predicting test-set using:  SVR Linear Kernel\n",
      " \n",
      "Variance for test set:0.81485\n"
     ]
    }
   ],
   "source": [
    "measure_performance(X_test, y_test, ransac_svr_linear, \"SVR Linear Kernel\", show_r2_score=True)"
   ]
  },
  {
   "cell_type": "code",
   "execution_count": 166,
   "metadata": {
    "collapsed": false
   },
   "outputs": [
    {
     "name": "stdout",
     "output_type": "stream",
     "text": [
      "Predicting test-set using:  SVR poly\n",
      " \n",
      "Variance for test set:0.31297\n"
     ]
    }
   ],
   "source": [
    "measure_performance(X_test, y_test, ransac_svr_poly, \"SVR poly\", show_r2_score=True)"
   ]
  },
  {
   "cell_type": "code",
   "execution_count": 167,
   "metadata": {
    "collapsed": false
   },
   "outputs": [
    {
     "name": "stdout",
     "output_type": "stream",
     "text": [
      "Predicting test-set using:  SVR rbf\n",
      " \n",
      "Variance for test set:0.66657\n"
     ]
    }
   ],
   "source": [
    "measure_performance(X_test, y_test, ransac_svr_rbf, \"SVR rbf\", show_r2_score=True)"
   ]
  },
  {
   "cell_type": "code",
   "execution_count": 168,
   "metadata": {
    "collapsed": false
   },
   "outputs": [
    {
     "name": "stdout",
     "output_type": "stream",
     "text": [
      "Predicting test-set using:  Extra-Trees regressor\n",
      " \n",
      "Variance for test set:1.00000\n"
     ]
    }
   ],
   "source": [
    "measure_performance(X_test, y_test, ransac_et, \"Extra-Trees regressor\", show_r2_score=True)\n"
   ]
  },
  {
   "cell_type": "code",
   "execution_count": null,
   "metadata": {
    "collapsed": true
   },
   "outputs": [],
   "source": []
  },
  {
   "cell_type": "code",
   "execution_count": null,
   "metadata": {
    "collapsed": true
   },
   "outputs": [],
   "source": []
  }
 ],
 "metadata": {
  "kernelspec": {
   "display_name": "Python 3",
   "language": "python",
   "name": "python3"
  },
  "language_info": {
   "codemirror_mode": {
    "name": "ipython",
    "version": 3
   },
   "file_extension": ".py",
   "mimetype": "text/x-python",
   "name": "python",
   "nbconvert_exporter": "python",
   "pygments_lexer": "ipython3",
   "version": "3.5.1"
  }
 },
 "nbformat": 4,
 "nbformat_minor": 0
}
