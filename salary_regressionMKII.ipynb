{
 "cells": [
  {
   "cell_type": "code",
   "execution_count": 378,
   "metadata": {
    "collapsed": true
   },
   "outputs": [],
   "source": [
    "import numpy as np\n",
    "import pandas as pd\n",
    "import matplotlib.pyplot as plt\n",
    "import sklearn as sk\n",
    "%matplotlib inline\n",
    "\n",
    "pd.set_option('display.max_columns', 1000000)\n",
    "pd.set_option('display.max_rows', 1000000)\n"
   ]
  },
  {
   "cell_type": "code",
   "execution_count": 379,
   "metadata": {
    "collapsed": true
   },
   "outputs": [],
   "source": [
    "sal = pd.read_csv('salaries-merged-copy.csv')"
   ]
  },
  {
   "cell_type": "code",
   "execution_count": 380,
   "metadata": {
    "collapsed": false
   },
   "outputs": [],
   "source": [
    "#Group columns by data type for getting dummy variables\n",
    "datatypes = sal.columns.to_series().groupby(sal.dtypes).groups"
   ]
  },
  {
   "cell_type": "code",
   "execution_count": 381,
   "metadata": {
    "collapsed": true
   },
   "outputs": [],
   "source": [
    "#Remove missing data\n",
    "sal['missingSalary'] = pd.isnull(sal['salary'])\n",
    "sal = sal[(sal.missingSalary == False)]"
   ]
  },
  {
   "cell_type": "code",
   "execution_count": 382,
   "metadata": {
    "collapsed": false
   },
   "outputs": [],
   "source": [
    "#replace alternate Canada spelling\n",
    "sal[\"country\"] = sal[\"country\"].replace(\"Canada\", \"CANADA\")"
   ]
  },
  {
   "cell_type": "code",
   "execution_count": 383,
   "metadata": {
    "collapsed": false
   },
   "outputs": [],
   "source": [
    "#Prepare variables for reshaping\n",
    "X_numeric_features = ['disabled', 'cred1', 'cred2', 'Unnamed: 0',\n",
    "  'sup1',\n",
    "  'sup2',\n",
    "  'sup3',\n",
    "  'sup4',\n",
    "  'sup5',\n",
    "  'inst1',\n",
    "  'inst2',\n",
    "  'inst3',\n",
    "  'inst4',\n",
    "  'inst5',\n",
    "  'zip',\n",
    "  'yearsinposition',\n",
    "  'yearsinprofession',\n",
    "  'age',\n",
    "  'instbudget',\n",
    "  'instsize',\n",
    "  'b19013_001',\n",
    "  'no_male_hs_p',\n",
    "  'no_female_hs_p',\n",
    "  'at_least_hs_male_p',\n",
    "  'at_least_hs_female_p',\n",
    "  'at_least_bach_male_p',\n",
    "  'at_least_bach_female_p',\n",
    "  'male_unemployment',\n",
    "  'female_unemployment',\n",
    "  'snap',\n",
    "  'renter',\n",
    "  'median_rent',\n",
    "  'foreign_born',\n",
    "  'value_for_owner-occupied_housing_units:__total:_',\n",
    "  'value_for_owner-occupied_housing_units:__less_than_$10,000_',\n",
    "  'value_for_owner-occupied_housing_units:__$10,000_to_$14,999_',\n",
    "  'value_for_owner-occupied_housing_units:__$15,000_to_$19,999_',\n",
    "  'value_for_owner-occupied_housing_units:__$20,000_to_$24,999_',\n",
    "  'value_for_owner-occupied_housing_units:__$25,000_to_$29,999_',\n",
    "  'value_for_owner-occupied_housing_units:__$30,000_to_$34,999_',\n",
    "  'value_for_owner-occupied_housing_units:__$35,000_to_$39,999_',\n",
    "  'value_for_owner-occupied_housing_units:__$40,000_to_$49,999_',\n",
    "  'value_for_owner-occupied_housing_units:__$50,000_to_$59,999_',\n",
    "  'value_for_owner-occupied_housing_units:__$60,000_to_$69,999_',\n",
    "  'value_for_owner-occupied_housing_units:__$70,000_to_$79,999_',\n",
    "  'value_for_owner-occupied_housing_units:__$80,000_to_$89,999_',\n",
    "  'value_for_owner-occupied_housing_units:__$90,000_to_$99,999_',\n",
    "  'value_for_owner-occupied_housing_units:__$100,000_to_$124,999_',\n",
    "  'value_for_owner-occupied_housing_units:__$125,000_to_$149,999_',\n",
    "  'value_for_owner-occupied_housing_units:__$150,000_to_$174,999_',\n",
    "  'value_for_owner-occupied_housing_units:__$175,000_to_$199,999_',\n",
    "  'value_for_owner-occupied_housing_units:__$200,000_to_$249,999_',\n",
    "  'value_for_owner-occupied_housing_units:__$250,000_to_$299,999_',\n",
    "  'value_for_owner-occupied_housing_units:__$300,000_to_$399,999_',\n",
    "  'value_for_owner-occupied_housing_units:__$400,000_to_$499,999_',\n",
    "  'value_for_owner-occupied_housing_units:__$500,000_to_$749,999_',\n",
    "  'value_for_owner-occupied_housing_units:__$750,000_to_$999,999_',\n",
    "  'value_for_owner-occupied_housing_units:__$1,000,000_or_more_',\n",
    "  'sex_by_age:__male:_',\n",
    "  'sex_by_age:__male:_under_5_years_',\n",
    "  'sex_by_age:__male:_5_to_9_years_',\n",
    "  'sex_by_age:__male:_10_to_14_years_',\n",
    "  'sex_by_age:__male:_15_to_17_years_',\n",
    "  'sex_by_age:__male:_18_and_19_years_',\n",
    "  'sex_by_age:__male:_20_years_',\n",
    "  'sex_by_age:__male:_21_years_',\n",
    "  'sex_by_age:__male:_22_to_24_years_',\n",
    "  'sex_by_age:__male:_25_to_29_years_',\n",
    "  'sex_by_age:__male:_30_to_34_years_',\n",
    "  'sex_by_age:__male:_35_to_39_years_',\n",
    "  'sex_by_age:__male:_40_to_44_years_',\n",
    "  'sex_by_age:__male:_45_to_49_years_',\n",
    "  'sex_by_age:__male:_50_to_54_years_',\n",
    "  'sex_by_age:__male:_55_to_59_years_',\n",
    "  'sex_by_age:__male:_60_and_61_years_',\n",
    "  'sex_by_age:__male:_62_to_64_years_',\n",
    "  'sex_by_age:__male:_65_and_66_years_',\n",
    "  'sex_by_age:__male:_67_to_69_years_',\n",
    "  'sex_by_age:__male:_70_to_74_years_',\n",
    "  'sex_by_age:__male:_75_to_79_years_',\n",
    "  'sex_by_age:__male:_80_to_84_years_',\n",
    "  'sex_by_age:__male:_85_years_and_over_',\n",
    "  'sex_by_age:__female:_',\n",
    "  'sex_by_age:__female:_under_5_years_',\n",
    "  'sex_by_age:__female:_5_to_9_years_',\n",
    "  'sex_by_age:__female:_10_to_14_years_',\n",
    "  'sex_by_age:__female:_15_to_17_years_',\n",
    "  'sex_by_age:__female:_18_and_19_years_',\n",
    "  'sex_by_age:__female:_20_years_',\n",
    "  'sex_by_age:__female:_21_years_',\n",
    "  'sex_by_age:__female:_22_to_24_years_',\n",
    "  'sex_by_age:__female:_25_to_29_years_',\n",
    "  'sex_by_age:__female:_30_to_34_years_',\n",
    "  'sex_by_age:__female:_35_to_39_years_',\n",
    "  'sex_by_age:__female:_40_to_44_years_',\n",
    "  'sex_by_age:__female:_45_to_49_years_',\n",
    "  'sex_by_age:__female:_50_to_54_years_',\n",
    "  'sex_by_age:__female:_55_to_59_years_',\n",
    "  'sex_by_age:__female:_60_and_61_years_',\n",
    "  'sex_by_age:__female:_62_to_64_years_',\n",
    "  'sex_by_age:__female:_65_and_66_years_',\n",
    "  'sex_by_age:__female:_67_to_69_years_',\n",
    "  'sex_by_age:__female:_70_to_74_years_',\n",
    "  'sex_by_age:__female:_75_to_79_years_',\n",
    "  'sex_by_age:__female:_80_to_84_years_',\n",
    "  'sex_by_age:__female:_85_years_and_over_',\n",
    "  'commute_over_60',\n",
    "  'full_time',\n",
    "  'part_time',\n",
    "  'high_rent_burden',\n",
    "  'extreme_rent_burden']\n",
    "X_numeric = sal[X_numeric_features]\n",
    "X_categorical_features = ['function', 'gender', 'race', 'highestdegree', 'category', 'insttype', 'city', 'state', 'country', 'median', 'mean', 'pop']\n",
    "X_categorical = sal[X_categorical_features]\n",
    "\n",
    "\n",
    "\n"
   ]
  },
  {
   "cell_type": "code",
   "execution_count": 384,
   "metadata": {
    "collapsed": false
   },
   "outputs": [],
   "source": [
    "#Concatenate dummy variables into a matrix\n",
    "Function_dummies = pd.get_dummies(X_categorical['function'])\n",
    "gender_dummies = pd.get_dummies(X_categorical['gender'])\n",
    "race_dummies = pd.get_dummies(X_categorical['race'])\n",
    "highestDegree_dummies = pd.get_dummies(X_categorical['highestdegree'])\n",
    "Category_dummies = pd.get_dummies(X_categorical['category'])\n",
    "instType_dummies = pd.get_dummies(X_categorical['insttype'])\n",
    "city_dummies = pd.get_dummies(X_categorical['city'])\n",
    "state_dummies = pd.get_dummies(X_categorical['state'])\n",
    "country_dummies = pd.get_dummies(X_categorical['country'])\n",
    "median_dummies = pd.get_dummies(X_categorical['median'])\n",
    "mean_dummies = pd.get_dummies(X_categorical['mean'])\n",
    "pop_dummies = pd.get_dummies(X_categorical['pop'])\n",
    "\n",
    "X_dummy_features = pd.concat([Function_dummies, gender_dummies, race_dummies, highestDegree_dummies, Category_dummies, instType_dummies, city_dummies, \n",
    "state_dummies,\n",
    "country_dummies,\n",
    "median_dummies,\n",
    "mean_dummies,\n",
    "pop_dummies], axis=1)\n",
    "\n",
    "# convert to ndarray\n",
    "X_dummy_features = X_dummy_features.as_matrix()"
   ]
  },
  {
   "cell_type": "code",
   "execution_count": 385,
   "metadata": {
    "collapsed": true
   },
   "outputs": [],
   "source": [
    "#Impute values\n",
    "from sklearn.preprocessing import Imputer\n",
    "imp = Imputer()\n",
    "imp.fit(X_numeric)\n",
    "X_numeric_imputed = imp.transform(X_numeric)"
   ]
  },
  {
   "cell_type": "code",
   "execution_count": 386,
   "metadata": {
    "collapsed": true
   },
   "outputs": [],
   "source": [
    "#Combine final X values\n",
    "X = np.concatenate((X_dummy_features, X_numeric_imputed), axis=1)\n",
    "#X = np.expand_dims(X, axis=1)\n",
    "y = sal.iloc[:, 7].values\n",
    "y = np.expand_dims(y, axis=1)"
   ]
  },
  {
   "cell_type": "code",
   "execution_count": 387,
   "metadata": {
    "collapsed": false
   },
   "outputs": [],
   "source": [
    "#Split data for training and test\n",
    "from sklearn.cross_validation import train_test_split\n",
    "X_train, X_test, y_train, y_test = train_test_split(X, y, test_size=0.3, random_state=0)"
   ]
  },
  {
   "cell_type": "code",
   "execution_count": 388,
   "metadata": {
    "collapsed": false
   },
   "outputs": [],
   "source": [
    "#Scale data\n",
    "from sklearn.preprocessing import StandardScaler\n",
    "scalerX = StandardScaler().fit(X_train)\n",
    "scalery = StandardScaler().fit(y_train)\n",
    "X_train = scalerX.transform(X_train)\n",
    "y_train = scalery.transform(y_train)\n",
    "X_test = scalerX.transform(X_test)\n",
    "y_test = scalery.transform(y_test)"
   ]
  },
  {
   "cell_type": "code",
   "execution_count": 389,
   "metadata": {
    "collapsed": true
   },
   "outputs": [],
   "source": [
    "#Reshape Y\n",
    "y_train = y_train.ravel()"
   ]
  },
  {
   "cell_type": "code",
   "execution_count": 390,
   "metadata": {
    "collapsed": true
   },
   "outputs": [],
   "source": [
    "from sklearn import svm\n",
    "###Wrap Model with RANSAC regressor to account for outliers\n",
    "ransac_linearSVR = linear_model.RANSACRegressor(svm.SVR(kernel='linear'), max_trials=100, min_samples=50, residual_threshold=20000)"
   ]
  },
  {
   "cell_type": "code",
   "execution_count": 391,
   "metadata": {
    "collapsed": false
   },
   "outputs": [],
   "source": [
    "'''create a function to train and cross-validate the data using:\n",
    "SGD regressor; \n",
    "SVR with Linear, Poly, and RBF kernels; \n",
    "extra-trees regressor;\n",
    "Linear regression'''\n",
    "from sklearn.cross_validation import *\n",
    "def train_and_evaluate(regr, X_train, y_train, name):\n",
    "    print(\"Training and cross-validating data using: \", name)\n",
    "    #Fit model\n",
    "    regr.fit(X_train, y_train)\n",
    "    print(\" \")\n",
    "    #Variance\n",
    "    print (\"Variance on training set:\\n\",regr.score(X_train, y_train))\n",
    "    print(\" \")   \n",
    "        #Mean square error\n",
    "    print(\"Residual sum of squares, training data: %.2f\" % np.mean((regr.predict(X_train) - y_train) ** 2))"
   ]
  },
  {
   "cell_type": "code",
   "execution_count": 392,
   "metadata": {
    "collapsed": false
   },
   "outputs": [
    {
     "name": "stdout",
     "output_type": "stream",
     "text": [
      "Training and cross-validating data using:  SVR Linear Kernel\n",
      " \n",
      "Variance on training set:\n",
      " 0.817293686151\n",
      " \n",
      "Residual sum of squares, training data: 0.18\n"
     ]
    }
   ],
   "source": [
    "train_and_evaluate(ransac_linearSVR, X_train, y_train, \"SVR Linear Kernel\")"
   ]
  },
  {
   "cell_type": "code",
   "execution_count": 393,
   "metadata": {
    "collapsed": false,
    "scrolled": true
   },
   "outputs": [
    {
     "data": {
      "text/plain": [
       "RANSACRegressor(base_estimator=SVR(C=1.0, cache_size=200, coef0=0.0, degree=3, epsilon=0.1, gamma='auto',\n",
       "  kernel='linear', max_iter=-1, shrinking=True, tol=0.001, verbose=False),\n",
       "        is_data_valid=None, is_model_valid=None, max_trials=100,\n",
       "        min_samples=50, random_state=None, residual_metric=None,\n",
       "        residual_threshold=20000, stop_n_inliers=inf,\n",
       "        stop_probability=0.99, stop_score=inf)"
      ]
     },
     "execution_count": 393,
     "metadata": {},
     "output_type": "execute_result"
    }
   ],
   "source": [
    "y_test = y_test.ravel()\n",
    "ransac_linearSVR.fit(X_test, y_test)"
   ]
  },
  {
   "cell_type": "code",
   "execution_count": 394,
   "metadata": {
    "collapsed": false
   },
   "outputs": [],
   "source": [
    "#Create function to run trained models on test data\n",
    "from sklearn import metrics\n",
    "def measure_performance(X, y, clf, name, show_r2_score=False):\n",
    "    y_pred = clf.predict(X)\n",
    "    if show_r2_score:\n",
    "        print(\"Predicting test-set using: \", name)\n",
    "        print(\" \")\n",
    "        print (\"Variance for test set:{0:.5f}\".format(metrics.r2_score(y, y_pred)))"
   ]
  },
  {
   "cell_type": "code",
   "execution_count": 395,
   "metadata": {
    "collapsed": false
   },
   "outputs": [
    {
     "name": "stdout",
     "output_type": "stream",
     "text": [
      "Predicting test-set using:  SVR Linear Kernel\n",
      " \n",
      "Variance for test set:0.81485\n"
     ]
    }
   ],
   "source": [
    "measure_performance(X_test, y_test, ransac_linearSVR, \"SVR Linear Kernel\", show_r2_score=True)"
   ]
  },
  {
   "cell_type": "code",
   "execution_count": null,
   "metadata": {
    "collapsed": true
   },
   "outputs": [],
   "source": []
  }
 ],
 "metadata": {
  "kernelspec": {
   "display_name": "Python 3",
   "language": "python",
   "name": "python3"
  },
  "language_info": {
   "codemirror_mode": {
    "name": "ipython",
    "version": 3
   },
   "file_extension": ".py",
   "mimetype": "text/x-python",
   "name": "python",
   "nbconvert_exporter": "python",
   "pygments_lexer": "ipython3",
   "version": "3.5.1"
  }
 },
 "nbformat": 4,
 "nbformat_minor": 0
}
